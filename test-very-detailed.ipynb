{
 "cells": [
  {
   "cell_type": "code",
   "execution_count": 66,
   "metadata": {},
   "outputs": [
    {
     "name": "stdout",
     "output_type": "stream",
     "text": [
      "Qs (Discounted Payoff) shape: (50, 5)\n",
      "As (Association matrix) shape: (50, 50)\n",
      "Ls (Provision constraints) shape: (50, 5)\n",
      "N (Number of assets): 50\n",
      "M (Number of actions): 5\n",
      "\n",
      "As:\n",
      "[[0. 0. 0. ... 0. 0. 0.]\n",
      " [0. 0. 0. ... 0. 0. 0.]\n",
      " [0. 0. 0. ... 0. 0. 0.]\n",
      " ...\n",
      " [0. 0. 0. ... 0. 0. 0.]\n",
      " [0. 0. 0. ... 0. 0. 0.]\n",
      " [0. 0. 0. ... 0. 0. 0.]]\n"
     ]
    }
   ],
   "source": [
    "import numpy as np\n",
    "from qtft_tools import *\n",
    "from scipy import sparse\n",
    "import networkx as nx\n",
    "from tqdm import tqdm\n",
    "import community\n",
    "import matplotlib.pyplot as plt\n",
    "import seaborn as sns\n",
    "\n",
    "from numpy import tensordot, kron, ones\n",
    "from scipy.optimize import minimize, LinearConstraint, Bounds\n",
    "\n",
    "# Q-Learning values. (Discounted Payoff action is in first column).\n",
    "Qs = sparse.load_npz('data/Qs.npz').toarray() \n",
    "\n",
    "# Association matrix\n",
    "As = sparse.load_npz('data/As.npz').toarray()\n",
    "\n",
    "# Provision constraints\n",
    "Ls = sparse.load_npz('data/Ls.npz').toarray()\n",
    "\n",
    "# Number of assets\n",
    "N = len(Qs)\n",
    "\n",
    "# Number of actions\n",
    "M = len(Qs[0,:])\n",
    "\n",
    "# Number of candidate solutions from QAOA\n",
    "n_candidates = 10\n",
    "\n",
    "# Number of driving cycles in QAOA. The larger this value, the better and the slower the solutions \n",
    "p = 2\n",
    "\n",
    "# Max community size in the divide-and-conquer algorithm. \n",
    "max_community_size = 7\n",
    "\n",
    "# Weight (epsilon) in the objective function\n",
    "e = 0.2\n",
    "\n",
    "\n",
    "num = 50\n",
    "Qs = Qs[:num,:]\n",
    "As = As[:num,:num]\n",
    "Ls = Ls[:num,:]\n",
    "N = len(Qs)\n",
    "\n",
    "print('Qs (Discounted Payoff) shape:', Qs.shape)\n",
    "print('As (Association matrix) shape:', As.shape)\n",
    "print('Ls (Provision constraints) shape:', Ls.shape)\n",
    "print('N (Number of assets):', N)\n",
    "print('M (Number of actions):', M)\n",
    "\n",
    "print()\n",
    "print(\"As:\")\n",
    "print(As)"
   ]
  },
  {
   "cell_type": "code",
   "execution_count": 72,
   "metadata": {},
   "outputs": [
    {
     "name": "stdout",
     "output_type": "stream",
     "text": [
      "id:0_0, nodes:[17 28 23], size:3\n",
      "id:1_0, nodes:[ 1 22 31], size:3\n",
      "id:5_0, nodes:[35 36], size:2\n",
      "id:7_0, nodes:[34 47], size:2\n",
      "id:6_0, nodes:[40 27], size:2\n",
      "id:8_0, nodes:[49  6], size:2\n",
      "id:4_0, nodes:[33  4], size:2\n",
      "id:3_0, nodes:[26 13], size:2\n",
      "id:2_0, nodes:[ 0 16], size:2\n",
      "id:18_0, nodes:[14], size:1\n",
      "id:9_0, nodes:[2], size:1\n",
      "id:10_0, nodes:[3], size:1\n",
      "id:11_0, nodes:[5], size:1\n",
      "id:12_0, nodes:[7], size:1\n",
      "id:13_0, nodes:[8], size:1\n",
      "id:14_0, nodes:[9], size:1\n",
      "id:15_0, nodes:[10], size:1\n",
      "id:16_0, nodes:[11], size:1\n",
      "id:17_0, nodes:[12], size:1\n",
      "id:38_0, nodes:[48], size:1\n",
      "id:37_0, nodes:[46], size:1\n",
      "id:29_0, nodes:[37], size:1\n",
      "id:36_0, nodes:[45], size:1\n",
      "id:35_0, nodes:[44], size:1\n",
      "id:34_0, nodes:[43], size:1\n",
      "id:33_0, nodes:[42], size:1\n",
      "id:32_0, nodes:[41], size:1\n",
      "id:31_0, nodes:[39], size:1\n",
      "id:30_0, nodes:[38], size:1\n",
      "id:28_0, nodes:[32], size:1\n",
      "id:20_0, nodes:[18], size:1\n",
      "id:27_0, nodes:[30], size:1\n",
      "id:26_0, nodes:[29], size:1\n",
      "id:25_0, nodes:[25], size:1\n",
      "id:24_0, nodes:[24], size:1\n",
      "id:23_0, nodes:[21], size:1\n",
      "id:22_0, nodes:[20], size:1\n",
      "id:21_0, nodes:[19], size:1\n",
      "id:19_0, nodes:[15], size:1\n"
     ]
    },
    {
     "data": {
      "text/plain": [
       "50"
      ]
     },
     "execution_count": 72,
     "metadata": {},
     "output_type": "execute_result"
    }
   ],
   "source": [
    "dc_m = DC_QAOA(Qs, As, e, p, n_candidates, max_community_size)\n",
    "#dc_m.optimized()\n",
    "dc_m.set_communities()\n",
    "\n",
    "tmp = 0\n",
    "for g in dc_m.groups:\n",
    "    g.show()\n",
    "    tmp += g.size\n",
    "\n",
    "tmp"
   ]
  },
  {
   "cell_type": "code",
   "execution_count": 125,
   "metadata": {},
   "outputs": [],
   "source": [
    "dc_m = DC_QAOA(Qs, As, e, p, n_candidates, max_community_size)\n",
    "#dc_m.optimized()\n",
    "dc_m.set_communities()\n",
    "\n",
    "#for i in tqdm(range(len(self.groups))):\n",
    "i = 0\n",
    "    \n",
    "# Perform QAOA\n",
    "Q = dc_m.Qs[dc_m.groups[i].nodes]\n",
    "A = dc_m.As[dc_m.groups[i].nodes][:, dc_m.groups[i].nodes]    \n",
    "m = QAOA(Q, A, dc_m.e, dc_m.p)\n",
    "      \n",
    "# to edit -------------------------------------------------------\n",
    "m.optimized()\n",
    "\n",
    "# Output probabilities\n",
    "ps = np.abs(np.reshape(m.psi,-1))**2\n",
    "\n",
    "# Save Candidates\n",
    "inds = np.argsort(ps)[::-1][:dc_m.n_candidates]\n",
    "dc_m.groups[i].ps = ps[inds]\n",
    "\n",
    "# Save selected bitstrings\n",
    "for ind in inds:\n",
    "    dc_m.groups[i].xs = np.append(dc_m.groups[i].xs, m.get_str_from_index(ind))\n",
    "\n",
    "# Save cost functions for selected bitstrings\n",
    "for bitstring in dc_m.groups[i].xs:\n",
    "    dc_m.groups[i].cs = np.append(dc_m.groups[i].cs, m.get_cost_from_str(bitstring))\n",
    "\n",
    "# State reconstruction\n",
    "if i == 0:\n",
    "    dc_m.res = dc_m.groups[0]\n",
    "else:\n",
    "    dc_m.res = dc_m._combine_groups(dc_m.res, dc_m.groups[i], ps, m)\n",
    "\n",
    "\n",
    "\n",
    "i = 1\n",
    "    \n",
    "# Perform QAOA\n",
    "Q = dc_m.Qs[dc_m.groups[i].nodes]\n",
    "A = dc_m.As[dc_m.groups[i].nodes][:, dc_m.groups[i].nodes]    \n",
    "m = QAOA(Q, A, dc_m.e, dc_m.p)\n",
    "      \n",
    "# to edit -------------------------------------------------------\n",
    "m.optimized()\n",
    "\n",
    "# Output probabilities\n",
    "ps = np.abs(np.reshape(m.psi,-1))**2\n",
    "\n",
    "# Save Candidates\n",
    "inds = np.argsort(ps)[::-1][:dc_m.n_candidates]\n",
    "dc_m.groups[i].ps = ps[inds]\n",
    "\n",
    "# Save selected bitstrings\n",
    "for ind in inds:\n",
    "    dc_m.groups[i].xs = np.append(dc_m.groups[i].xs, m.get_str_from_index(ind))\n",
    "\n",
    "# Save cost functions for selected bitstrings\n",
    "for bitstring in dc_m.groups[i].xs:\n",
    "    dc_m.groups[i].cs = np.append(dc_m.groups[i].cs, m.get_cost_from_str(bitstring))"
   ]
  },
  {
   "cell_type": "code",
   "execution_count": 145,
   "metadata": {},
   "outputs": [],
   "source": [
    "L = dc_m.res\n",
    "R = dc_m.groups[i]\n",
    "_, ind_L, ind_R = np.intersect1d(L.nodes, R.nodes, return_indices = True)\n",
    "LR = Group(name = L.id+\"|\"+R.id, nodes = np.concatenate((L.nodes, np.delete(R.nodes, ind_R))))\n",
    "# Loop over all candidates\n",
    "for ii in range(len(L.xs)):\n",
    "    for jj in range(len(R.xs)):\n",
    "        LR = dc_m._combine_bitstrings(L.xs[ii], R.xs[jj], ind_L, ind_R, LR)\n",
    "\n",
    "m2 = QAOA(dc_m.Qs[LR.nodes], dc_m.As[LR.nodes][:,LR.nodes], dc_m.e, dc_m.p)\n",
    "for x in LR.xs:\n",
    "    LR.cs = np.append(LR.cs, m2.get_cost_from_str(x))"
   ]
  },
  {
   "cell_type": "code",
   "execution_count": 135,
   "metadata": {},
   "outputs": [
    {
     "name": "stdout",
     "output_type": "stream",
     "text": [
      "id:0_0|1_0, nodes:[17 28 23  1 22 31], size:6\n"
     ]
    }
   ],
   "source": [
    "LR.show()"
   ]
  },
  {
   "cell_type": "code",
   "execution_count": 141,
   "metadata": {},
   "outputs": [
    {
     "name": "stdout",
     "output_type": "stream",
     "text": [
      "['333' '330' '303' '033' '331' '233' '313' '300' '133' '030']\n",
      "['000' '200' '002' '202' '004' '020' '400' '204' '402' '220']\n",
      "['333000' '333200' '333002' '333202' '333004' '333020' '333400' '333204'\n",
      " '333402' '333220' '330000' '330200' '330002' '330202' '330004' '330020'\n",
      " '330400' '330204' '330402' '330220' '303000' '303200' '303002' '303202'\n",
      " '303004' '303020' '303400' '303204' '303402' '303220' '033000' '033200'\n",
      " '033002' '033202' '033004' '033020' '033400' '033204' '033402' '033220'\n",
      " '331000' '331200' '331002' '331202' '331004' '331020' '331400' '331204'\n",
      " '331402' '331220' '233000' '233200' '233002' '233202' '233004' '233020'\n",
      " '233400' '233204' '233402' '233220' '313000' '313200' '313002' '313202'\n",
      " '313004' '313020' '313400' '313204' '313402' '313220' '300000' '300200'\n",
      " '300002' '300202' '300004' '300020' '300400' '300204' '300402' '300220'\n",
      " '133000' '133200' '133002' '133202' '133004' '133020' '133400' '133204'\n",
      " '133402' '133220' '030000' '030200' '030002' '030202' '030004' '030020'\n",
      " '030400' '030204' '030402' '030220']\n"
     ]
    }
   ],
   "source": [
    "print(L.xs)\n",
    "print(R.xs)\n",
    "print(LR.xs)"
   ]
  },
  {
   "cell_type": "code",
   "execution_count": 146,
   "metadata": {},
   "outputs": [
    {
     "data": {
      "text/plain": [
       "array([-1.68055473, -1.94730443, -1.94730443, -2.24482228, -1.603517  ,\n",
       "       -1.59263179, -1.603517  , -1.90103485, -1.90103485, -1.85938149,\n",
       "       -1.45644164, -1.72319134, -1.72319134, -2.02070919, -1.37940391,\n",
       "       -1.3685187 , -1.37940391, -1.67692176, -1.67692176, -1.6352684 ,\n",
       "       -1.28434029, -1.55109   , -1.55109   , -1.84860785, -1.20730257,\n",
       "       -1.19641735, -1.20730257, -1.50482042, -1.50482042, -1.46316706,\n",
       "       -1.29173635, -1.55848606, -1.55848606, -1.85600391, -1.21469863,\n",
       "       -1.20381341, -1.21469863, -1.51221648, -1.51221648, -1.47056312,\n",
       "       -1.41717835, -1.68392806, -1.68392806, -1.9814459 , -1.34014063,\n",
       "       -1.32925541, -1.34014063, -1.63765848, -1.63765848, -1.59600512,\n",
       "       -1.27882236, -1.54557207, -1.54557207, -1.84308992, -1.20178464,\n",
       "       -1.19089942, -1.20178464, -1.49930249, -1.49930249, -1.45764913,\n",
       "       -1.20743935, -1.47418906, -1.47418906, -1.77170691, -1.13040163,\n",
       "       -1.11951641, -1.13040163, -1.42791948, -1.42791948, -1.38626612,\n",
       "       -1.09848462, -1.36523432, -1.36523432, -1.66275217, -1.02144689,\n",
       "       -1.01056168, -1.02144689, -1.31896474, -1.31896474, -1.27731138,\n",
       "       -1.20743935, -1.47418906, -1.47418906, -1.77170691, -1.13040163,\n",
       "       -1.11951641, -1.13040163, -1.42791948, -1.42791948, -1.38626612,\n",
       "       -1.09848462, -1.36523432, -1.36523432, -1.66275217, -1.02144689,\n",
       "       -1.01056168, -1.02144689, -1.31896474, -1.31896474, -1.27731138])"
      ]
     },
     "execution_count": 146,
     "metadata": {},
     "output_type": "execute_result"
    }
   ],
   "source": [
    "LR.cs"
   ]
  },
  {
   "cell_type": "code",
   "execution_count": null,
   "metadata": {},
   "outputs": [],
   "source": []
  }
 ],
 "metadata": {
  "kernelspec": {
   "display_name": "Python 3.9.13 64-bit",
   "language": "python",
   "name": "python3"
  },
  "language_info": {
   "codemirror_mode": {
    "name": "ipython",
    "version": 3
   },
   "file_extension": ".py",
   "mimetype": "text/x-python",
   "name": "python",
   "nbconvert_exporter": "python",
   "pygments_lexer": "ipython3",
   "version": "3.9.13"
  },
  "orig_nbformat": 4,
  "vscode": {
   "interpreter": {
    "hash": "b0fa6594d8f4cbf19f97940f81e996739fb7646882a419484c72d19e05852a7e"
   }
  }
 },
 "nbformat": 4,
 "nbformat_minor": 2
}
