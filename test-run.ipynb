{
 "cells": [
  {
   "cell_type": "code",
   "execution_count": 1,
   "metadata": {},
   "outputs": [],
   "source": [
    "import numpy as np\n",
    "from qtft_tools import *\n",
    "from scipy import sparse\n",
    "import networkx as nx\n",
    "from tqdm import tqdm\n",
    "import community\n",
    "import matplotlib.pyplot as plt\n",
    "import seaborn as sns"
   ]
  },
  {
   "cell_type": "code",
   "execution_count": 2,
   "metadata": {},
   "outputs": [],
   "source": [
    "# Q-Learning values. (Discounted Payoff action is in first column).\n",
    "Qs = sparse.load_npz('data/Qs.npz').toarray() \n",
    "\n",
    "# Association matrix\n",
    "As = sparse.load_npz('data/As.npz').toarray()\n",
    "\n",
    "# Provision constraints\n",
    "Ls = sparse.load_npz('data/Ls.npz').toarray()\n",
    "\n",
    "# Number of assets\n",
    "N = len(Qs)\n",
    "\n",
    "# Number of actions\n",
    "M = len(Qs[0,:])\n",
    "\n",
    "# Number of candidate solutions from QAOA\n",
    "n_candidates = 10\n",
    "\n",
    "# Number of driving cycles in QAOA. The larger this value, the better and the slower the solutions \n",
    "p = 2\n",
    "\n",
    "# Max community size in the divide-and-conquer algorithm. \n",
    "max_community_size = 7\n",
    "\n",
    "# Weight (epsilon) in the objective function\n",
    "e = 0.2"
   ]
  },
  {
   "cell_type": "code",
   "execution_count": 3,
   "metadata": {},
   "outputs": [
    {
     "name": "stdout",
     "output_type": "stream",
     "text": [
      "Qs (Discounted Payoff) shape: (20, 5)\n",
      "As (Association matrix) shape: (20, 20)\n",
      "Ls (Provision constraints) shape: (20, 5)\n",
      "N (Number of assets): 20\n",
      "M (Number of actions): 5\n"
     ]
    }
   ],
   "source": [
    "num = 20\n",
    "Qs = Qs[:num,:]\n",
    "As = As[:num,:num]\n",
    "Ls = Ls[:num,:]\n",
    "N = len(Qs)\n",
    "print('Qs (Discounted Payoff) shape:', Qs.shape)\n",
    "print('As (Association matrix) shape:', As.shape)\n",
    "print('Ls (Provision constraints) shape:', Ls.shape)\n",
    "print('N (Number of assets):', N)\n",
    "print('M (Number of actions):', M)"
   ]
  },
  {
   "cell_type": "code",
   "execution_count": 5,
   "metadata": {},
   "outputs": [
    {
     "name": "stdout",
     "output_type": "stream",
     "text": [
      "-- Performing DC-QAOA --\n"
     ]
    },
    {
     "name": "stderr",
     "output_type": "stream",
     "text": [
      "100%|██████████| 20/20 [00:00<00:00, 68.63it/s]\n"
     ]
    }
   ],
   "source": [
    "# Peform DC QAOA\n",
    "print('-- Performing DC-QAOA --')\n",
    "m = DC_QAOA(Qs, As, e, p, n_candidates, max_community_size)\n",
    "m.optimized()"
   ]
  },
  {
   "cell_type": "code",
   "execution_count": 25,
   "metadata": {},
   "outputs": [
    {
     "data": {
      "text/plain": [
       "'33343333313313331111'"
      ]
     },
     "execution_count": 25,
     "metadata": {},
     "output_type": "execute_result"
    }
   ],
   "source": [
    "m.x_best"
   ]
  },
  {
   "cell_type": "code",
   "execution_count": 26,
   "metadata": {},
   "outputs": [
    {
     "name": "stdout",
     "output_type": "stream",
     "text": [
      "-- Performing GPR on top of DC QAOA --\n"
     ]
    },
    {
     "name": "stderr",
     "output_type": "stream",
     "text": [
      "100%|██████████| 300/300 [00:00<00:00, 412.55it/s]\n"
     ]
    }
   ],
   "source": [
    "# Perform Greedy Provision Reduction on top of DC QAOA solutions\n",
    "print('-- Performing GPR on top of DC QAOA --')\n",
    "g_q = GreedySearch(m.x_best, Qs, As, Ls, e=e)\n",
    "g_q.optimized(300)"
   ]
  },
  {
   "cell_type": "code",
   "execution_count": 27,
   "metadata": {},
   "outputs": [
    {
     "data": {
      "text/plain": [
       "array([[1, 0, 0, 0, 0],\n",
       "       [1, 0, 0, 0, 0],\n",
       "       [1, 0, 0, 0, 0],\n",
       "       [1, 0, 0, 0, 0],\n",
       "       [1, 0, 0, 0, 0],\n",
       "       [1, 0, 0, 0, 0],\n",
       "       [1, 0, 0, 0, 0],\n",
       "       [1, 0, 0, 0, 0],\n",
       "       [1, 0, 0, 0, 0],\n",
       "       [0, 1, 0, 0, 0],\n",
       "       [1, 0, 0, 0, 0],\n",
       "       [1, 0, 0, 0, 0],\n",
       "       [0, 1, 0, 0, 0],\n",
       "       [1, 0, 0, 0, 0],\n",
       "       [1, 0, 0, 0, 0],\n",
       "       [1, 0, 0, 0, 0],\n",
       "       [0, 1, 0, 0, 0],\n",
       "       [0, 1, 0, 0, 0],\n",
       "       [0, 1, 0, 0, 0],\n",
       "       [0, 1, 0, 0, 0]])"
      ]
     },
     "execution_count": 27,
     "metadata": {},
     "output_type": "execute_result"
    }
   ],
   "source": [
    "g_q.x_best"
   ]
  }
 ],
 "metadata": {
  "interpreter": {
   "hash": "b0fa6594d8f4cbf19f97940f81e996739fb7646882a419484c72d19e05852a7e"
  },
  "kernelspec": {
   "display_name": "Python 3 (ipykernel)",
   "language": "python",
   "name": "python3"
  },
  "language_info": {
   "codemirror_mode": {
    "name": "ipython",
    "version": 3
   },
   "file_extension": ".py",
   "mimetype": "text/x-python",
   "name": "python",
   "nbconvert_exporter": "python",
   "pygments_lexer": "ipython3",
   "version": "3.11.3"
  }
 },
 "nbformat": 4,
 "nbformat_minor": 2
}
