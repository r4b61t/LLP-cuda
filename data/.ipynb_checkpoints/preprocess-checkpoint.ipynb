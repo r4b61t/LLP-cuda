{
 "cells": [
  {
   "cell_type": "code",
   "execution_count": 64,
   "metadata": {},
   "outputs": [],
   "source": [
    "import numpy as np\n",
    "import matplotlib.pyplot as plt\n",
    "from scipy import sparse\n",
    "import community\n",
    "import networkx as nx"
   ]
  },
  {
   "cell_type": "code",
   "execution_count": 30,
   "metadata": {},
   "outputs": [],
   "source": [
    "# Q-Learning values. Modified data has suing action in first column.\n",
    "Qs = sparse.load_npz('arc/Q-600-modified.npz').toarray() \n",
    "\n",
    "# Provisions\n",
    "Ls = np.genfromtxt(\"arc/P-600-modified.csv\", delimiter=',')\n",
    "\n",
    "# Association matrix\n",
    "As = sparse.load_npz('arc/a_matrix.npz').toarray()"
   ]
  },
  {
   "cell_type": "code",
   "execution_count": 7,
   "metadata": {},
   "outputs": [
    {
     "data": {
      "text/plain": [
       "array([[    0.        , 70547.118608  , 70547.118608  , 71139.947988  ,\n",
       "        71139.947988  ],\n",
       "       [    0.        , 43173.64633   , 43173.64633   , 43612.280624  ,\n",
       "        43612.280624  ],\n",
       "       [    0.        , 70247.89582   , 70247.89582   , 70870.691282  ,\n",
       "        70870.691282  ],\n",
       "       ...,\n",
       "       [    0.        ,  1830.6095129 ,  1830.9902081 ,  1830.9902081 ,\n",
       "         1830.9902081 ],\n",
       "       [    0.        ,   689.87731254,   689.95672544,   689.95672544,\n",
       "          689.95672544],\n",
       "       [    0.        ,  1002.05220606,  1002.23486869,  1002.23486869,\n",
       "         1002.23486869]])"
      ]
     },
     "execution_count": 7,
     "metadata": {},
     "output_type": "execute_result"
    }
   ],
   "source": [
    "new_Ls = np.delete(Ls, [0,1,2], 1)\n",
    "new_Ls"
   ]
  },
  {
   "cell_type": "code",
   "execution_count": 15,
   "metadata": {},
   "outputs": [
    {
     "data": {
      "text/plain": [
       "array([[0.10516435, 0.01914128, 0.43860148, 0.        , 0.0088672 ],\n",
       "       [0.10516435, 0.01914128, 0.43860148, 0.        , 0.0088672 ],\n",
       "       [0.10516435, 0.01914128, 0.43860148, 0.        , 0.0088672 ],\n",
       "       ...,\n",
       "       [0.20124224, 0.0572943 , 0.14652306, 0.64868851, 0.08066844],\n",
       "       [0.20124224, 0.0572943 , 0.14652306, 0.64868851, 0.08066844],\n",
       "       [0.17445808, 0.03898051, 0.16427112, 0.36820098, 0.06516266]])"
      ]
     },
     "execution_count": 15,
     "metadata": {},
     "output_type": "execute_result"
    }
   ],
   "source": [
    "new_Qs = np.zeros((len(Qs), 5))\n",
    "new_Qs[:,0] = np.max(Qs[:,:4],axis=1)\n",
    "new_Qs[:,1:5] = Qs[:,4:8]\n",
    "new_Qs"
   ]
  },
  {
   "cell_type": "code",
   "execution_count": 111,
   "metadata": {},
   "outputs": [
    {
     "data": {
      "text/plain": [
       "array([[0., 0., 0., ..., 0., 0., 0.],\n",
       "       [0., 0., 0., ..., 0., 0., 0.],\n",
       "       [0., 0., 0., ..., 0., 0., 0.],\n",
       "       ...,\n",
       "       [0., 0., 0., ..., 0., 0., 0.],\n",
       "       [0., 0., 0., ..., 0., 0., 0.],\n",
       "       [0., 0., 0., ..., 0., 0., 0.]])"
      ]
     },
     "execution_count": 111,
     "metadata": {},
     "output_type": "execute_result"
    }
   ],
   "source": [
    "G = nx.convert_matrix.from_numpy_array(As)\n",
    "mapping = community.best_partition(G)\n",
    "labels = np.array(list(mapping.values()))\n",
    "unique_labels, counts = np.unique(labels, return_counts=True)\n",
    "\n",
    "ind = []\n",
    "sorted_ind = np.argsort(counts)[::-1]\n",
    "i = 0\n",
    "while (len(ind)<600) and i<len(unique_labels):\n",
    "    ind += list(np.where(labels==unique_labels[sorted_ind[i]])[0])\n",
    "    i += 1\n",
    "ind = ind[:600]\n",
    "\n",
    "new_As = As[ind][:, ind]\n",
    "new_As"
   ]
  },
  {
   "cell_type": "code",
   "execution_count": 116,
   "metadata": {},
   "outputs": [],
   "source": [
    "sparse.save_npz(\"Ls.npz\", matrix(\"Ls.npz\",new_Ls)\n",
    "sparse.save_npz(\"Qs.npz\",new_Qs)\n",
    "sparse.save_npz(\"As.npz\",new_As)"
   ]
  },
  {
   "cell_type": "code",
   "execution_count": 89,
   "metadata": {},
   "outputs": [
    {
     "data": {
      "text/plain": [
       "51"
      ]
     },
     "execution_count": 89,
     "metadata": {},
     "output_type": "execute_result"
    }
   ],
   "source": [
    "i"
   ]
  },
  {
   "cell_type": "code",
   "execution_count": null,
   "metadata": {},
   "outputs": [],
   "source": []
  }
 ],
 "metadata": {
  "kernelspec": {
   "display_name": "Python 3",
   "language": "python",
   "name": "python3"
  },
  "language_info": {
   "codemirror_mode": {
    "name": "ipython",
    "version": 3
   },
   "file_extension": ".py",
   "mimetype": "text/x-python",
   "name": "python",
   "nbconvert_exporter": "python",
   "pygments_lexer": "ipython3",
   "version": "3.7.6"
  }
 },
 "nbformat": 4,
 "nbformat_minor": 4
}
