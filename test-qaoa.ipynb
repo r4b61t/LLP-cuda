{
 "cells": [
  {
   "cell_type": "code",
   "execution_count": 1,
   "metadata": {},
   "outputs": [
    {
     "data": {
      "text/plain": [
       "'\\nimport matplotlib.pyplot as plt\\nimport seaborn as sns\\n'"
      ]
     },
     "execution_count": 1,
     "metadata": {},
     "output_type": "execute_result"
    }
   ],
   "source": [
    "import numpy as np\n",
    "from scipy import sparse\n",
    "from scipy.optimize import minimize, LinearConstraint, Bounds\n",
    "import networkx as nx\n",
    "import community\n",
    "from tqdm import tqdm\n",
    "from qtft_tools import QAOA, DC_QAOA\n",
    "'''\n",
    "import matplotlib.pyplot as plt\n",
    "import seaborn as sns\n",
    "'''"
   ]
  },
  {
   "cell_type": "code",
   "execution_count": 4,
   "metadata": {},
   "outputs": [],
   "source": [
    "Qs = sparse.load_npz('data/Qs.npz').toarray() \n",
    "As = sparse.load_npz('data/As.npz').toarray()\n",
    "Ls = sparse.load_npz('data/Ls.npz').toarray()\n",
    "\n",
    "num = 5\n",
    "numactions = 2\n",
    "Qs = Qs[:num,:numactions]\n",
    "As = As[:num,:num]\n",
    "Ls = Ls[:num,:numactions]\n",
    "p = 2\n",
    "e = 0.2"
   ]
  },
  {
   "cell_type": "code",
   "execution_count": 5,
   "metadata": {},
   "outputs": [
    {
     "name": "stdout",
     "output_type": "stream",
     "text": [
      "(2, 2, 2, 2, 2)\n",
      "[1.00000000e+00 2.78507508e-13 2.78507508e-13 7.75817133e-26\n",
      " 2.78507508e-13 7.75823010e-26 7.75860047e-26 4.63826493e-33\n",
      " 2.78507508e-13 7.75615315e-26 7.75657683e-26 4.54892638e-34\n",
      " 7.75393889e-26 6.15222430e-35 8.27663470e-34 5.96049225e-34\n",
      " 2.78507508e-13 7.75928193e-26 7.75857366e-26 1.84825309e-34\n",
      " 7.75723273e-26 6.27615988e-34 3.36672033e-33 9.14026884e-34\n",
      " 7.75658617e-26 6.90652943e-36 5.22660249e-35 4.68599534e-34\n",
      " 1.33413047e-33 1.36496309e-35 1.28913933e-33 8.97715365e-34]\n"
     ]
    }
   ],
   "source": [
    "qaoa = QAOA(Qs, As, e, p)\n",
    "qaoa.optimized(maxiter=20, method='BFGS')\n",
    "\n",
    "print(qaoa.psi.shape)\n",
    "\n",
    "ps = np.abs(np.reshape(qaoa.psi,-1))**2\n",
    "print(ps)"
   ]
  },
  {
   "cell_type": "code",
   "execution_count": 2,
   "metadata": {},
   "outputs": [
    {
     "name": "stderr",
     "output_type": "stream",
     "text": [
      "100%|██████████| 69/69 [00:06<00:00, 11.17it/s]\n"
     ]
    },
    {
     "data": {
      "text/plain": [
       "'4233030131131433131114234303212034131131312313401032044430111134111110131321300304201333111141111141'"
      ]
     },
     "execution_count": 2,
     "metadata": {},
     "output_type": "execute_result"
    }
   ],
   "source": [
    "Qs = sparse.load_npz('data/Qs.npz').toarray() \n",
    "As = sparse.load_npz('data/As.npz').toarray()\n",
    "Ls = sparse.load_npz('data/Ls.npz').toarray()\n",
    "\n",
    "num = 100\n",
    "numactions = 5\n",
    "Qs = Qs[:num,:numactions]\n",
    "As = As[:num,:num]\n",
    "Ls = Ls[:num,:numactions]\n",
    "N = len(Qs)\n",
    "M = len(Qs[0,:])\n",
    "\n",
    "n_candidates = 10\n",
    "p = 2\n",
    "max_community_size = 7\n",
    "e = 0.2\n",
    "\n",
    "m = DC_QAOA(Qs, As, e, p, n_candidates, max_community_size)\n",
    "m.optimized()\n",
    "m.x_best"
   ]
  },
  {
   "cell_type": "code",
   "execution_count": null,
   "metadata": {},
   "outputs": [],
   "source": []
  },
  {
   "cell_type": "code",
   "execution_count": null,
   "metadata": {},
   "outputs": [],
   "source": []
  }
 ],
 "metadata": {
  "interpreter": {
   "hash": "b0fa6594d8f4cbf19f97940f81e996739fb7646882a419484c72d19e05852a7e"
  },
  "kernelspec": {
   "display_name": "Python 3 (ipykernel)",
   "language": "python",
   "name": "python3"
  },
  "language_info": {
   "codemirror_mode": {
    "name": "ipython",
    "version": 3
   },
   "file_extension": ".py",
   "mimetype": "text/x-python",
   "name": "python",
   "nbconvert_exporter": "python",
   "pygments_lexer": "ipython3",
   "version": "3.11.3"
  }
 },
 "nbformat": 4,
 "nbformat_minor": 2
}
