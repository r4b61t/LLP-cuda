{
 "cells": [
  {
   "cell_type": "code",
   "execution_count": 48,
   "id": "initial_id",
   "metadata": {
    "collapsed": true,
    "ExecuteTime": {
     "end_time": "2024-02-10T14:43:24.713353300Z",
     "start_time": "2024-02-10T14:43:24.696343600Z"
    }
   },
   "outputs": [],
   "source": [
    "import time\n",
    "from qtft_tools import *\n",
    "from scipy import sparse\n",
    "import matplotlib.pyplot as plt\n",
    "\n",
    "logging.basicConfig(level=logging.INFO, format='%(asctime)s - %(levelname)s - %(message)s')\n",
    "\n",
    "# Q-Learning values. (Discounted Payoff action is in first column).\n",
    "Qs = sparse.load_npz('../data/Qs.npz').toarray()\n",
    "\n",
    "# Association matrix\n",
    "As = sparse.load_npz('../data/As.npz').toarray()\n",
    "\n",
    "# Provision constraints\n",
    "Ls = sparse.load_npz('../data/Ls.npz').toarray()\n",
    "\n",
    "Qs_no_negatives = Qs.copy()\n",
    "Qs_no_negatives[Qs_no_negatives < 0] = 0\n",
    "Qs_with_4_actions = Qs_no_negatives[:, :4]\n",
    "Ls_with_4_actions = Ls.copy()[:, :4]\n",
    "\n",
    "selected_number_of_loanees = 600\n",
    "\n",
    "Qs = Qs_with_4_actions[:selected_number_of_loanees]\n",
    "Ls = Ls_with_4_actions[:selected_number_of_loanees]\n",
    "As = As[:selected_number_of_loanees, :selected_number_of_loanees]\n"
   ]
  },
  {
   "cell_type": "code",
   "outputs": [
    {
     "name": "stdout",
     "output_type": "stream",
     "text": [
      "600 4\n"
     ]
    }
   ],
   "source": [
    "\n",
    "N = len(Qs)\n",
    "M = len(Qs[0, :])\n",
    "print(N, M)\n",
    "n_candidates = 100\n",
    "p = 1\n",
    "max_community_size = 6\n",
    "e = 0.2\n",
    "\n"
   ],
   "metadata": {
    "collapsed": false,
    "ExecuteTime": {
     "end_time": "2024-02-10T14:43:25.656056500Z",
     "start_time": "2024-02-10T14:43:25.644057600Z"
    }
   },
   "id": "4cc8118cc2805776",
   "execution_count": 49
  },
  {
   "cell_type": "code",
   "outputs": [],
   "source": [
    "import numpy as np\n",
    "np.random.seed(42)\n",
    "m = DC_QAOA(Qs, As, e, p, n_candidates, max_community_size)\n",
    "m.set_communities()\n"
   ],
   "metadata": {
    "collapsed": false,
    "ExecuteTime": {
     "end_time": "2024-02-10T14:43:27.094754800Z",
     "start_time": "2024-02-10T14:43:26.869754100Z"
    }
   },
   "id": "d75f1239809120b",
   "execution_count": 50
  },
  {
   "cell_type": "code",
   "outputs": [
    {
     "name": "stderr",
     "output_type": "stream",
     "text": [
      "2024-02-10 21:13:28,234 - INFO - Getting initial state.\n",
      "Optimizing:   0%|          | 0/20 [00:00<?, ?it/s]2024-02-10 21:13:28,236 - INFO - Caching HA.\n",
      "\n",
      "Calculating profit term.: 100%|██████████| 3/3 [00:00<00:00, 187.54it/s]\n",
      "\n",
      "Calculating welfare term.: 100%|██████████| 3/3 [00:00<00:00, 428.62it/s]\n",
      "2024-02-10 21:13:28,277 - INFO - Caching HB.\n",
      "\n",
      "Calculating HB.: 100%|██████████| 5/5 [00:00<00:00, 1000.36it/s]\n",
      "\n",
      "Calculating taylor series terms for HB.: 100%|██████████| 7/7 [00:00<00:00, 6997.17it/s]\n",
      "\n",
      "caching small ub: 100%|██████████| 17/17 [00:00<00:00, 680.09it/s]\n",
      "Optimizing: 21it [00:00, 100.48it/s]                        \n",
      "2024-02-10 21:13:28,446 - INFO - Evolving psi\n",
      "2024-02-10 21:13:28,448 - INFO - Caching HA.\n",
      "Calculating profit term.: 100%|██████████| 3/3 [00:00<00:00, 150.05it/s]\n",
      "Calculating welfare term.: 100%|██████████| 3/3 [00:00<00:00, 375.32it/s]\n",
      "2024-02-10 21:13:28,483 - INFO - Getting initial state.\n"
     ]
    },
    {
     "name": "stdout",
     "output_type": "stream",
     "text": [
      "202 -0.6264907426191009\n"
     ]
    },
    {
     "name": "stderr",
     "output_type": "stream",
     "text": [
      "Optimizing:   0%|          | 0/20 [00:00<?, ?it/s]2024-02-10 21:13:28,485 - INFO - Caching HA.\n",
      "\n",
      "Calculating profit term.: 100%|██████████| 3/3 [00:00<00:00, 187.45it/s]\n",
      "\n",
      "Calculating welfare term.: 100%|██████████| 3/3 [00:00<00:00, 428.37it/s]\n",
      "2024-02-10 21:13:28,515 - INFO - Caching HB.\n",
      "\n",
      "Calculating HB.: 100%|██████████| 5/5 [00:00<00:00, 1001.89it/s]\n",
      "\n",
      "Calculating taylor series terms for HB.: 100%|██████████| 7/7 [00:00<?, ?it/s]\u001B[A\n",
      "\n",
      "caching small ub: 100%|██████████| 17/17 [00:00<00:00, 8499.60it/s]\n",
      "Optimizing:  60%|██████    | 12/20 [00:00<00:00, 99.18it/s]\n",
      "2024-02-10 21:13:28,607 - INFO - Evolving psi\n",
      "2024-02-10 21:13:28,639 - INFO - Caching HA.\n",
      "Calculating profit term.: 100%|██████████| 3/3 [00:00<00:00, 142.91it/s]\n",
      "Calculating welfare term.: 100%|██████████| 3/3 [00:00<00:00, 375.09it/s]\n",
      "2024-02-10 21:13:28,677 - INFO - Getting initial state.\n"
     ]
    },
    {
     "name": "stdout",
     "output_type": "stream",
     "text": [
      "203 -0.46676800387142325\n"
     ]
    },
    {
     "name": "stderr",
     "output_type": "stream",
     "text": [
      "Optimizing:   0%|          | 0/20 [00:00<?, ?it/s]2024-02-10 21:13:28,681 - INFO - Caching HA.\n",
      "\n",
      "Calculating profit term.: 100%|██████████| 3/3 [00:00<00:00, 176.43it/s]\n",
      "\n",
      "Calculating welfare term.: 100%|██████████| 3/3 [00:00<00:00, 428.54it/s]\n",
      "2024-02-10 21:13:28,713 - INFO - Caching HB.\n",
      "\n",
      "Calculating HB.: 100%|██████████| 5/5 [00:00<00:00, 1249.49it/s]\n",
      "\n",
      "Calculating taylor series terms for HB.: 100%|██████████| 7/7 [00:00<?, ?it/s]\u001B[A\n",
      "\n",
      "caching small ub: 100%|██████████| 17/17 [00:00<00:00, 5665.73it/s]\n",
      "Optimizing: 21it [00:00, 187.52it/s]                        \n",
      "2024-02-10 21:13:28,793 - INFO - Evolving psi\n",
      "2024-02-10 21:13:28,795 - INFO - Caching HA.\n",
      "Calculating profit term.: 100%|██████████| 3/3 [00:00<00:00, 176.30it/s]\n",
      "Calculating welfare term.: 100%|██████████| 3/3 [00:00<00:00, 429.10it/s]\n",
      "2024-02-10 21:13:28,826 - INFO - Getting initial state.\n"
     ]
    },
    {
     "name": "stdout",
     "output_type": "stream",
     "text": [
      "204 -0.4888698073059936\n"
     ]
    },
    {
     "name": "stderr",
     "output_type": "stream",
     "text": [
      "Optimizing:   0%|          | 0/20 [00:00<?, ?it/s]2024-02-10 21:13:28,829 - INFO - Caching HA.\n",
      "\n",
      "Calculating profit term.: 100%|██████████| 3/3 [00:00<00:00, 176.52it/s]\n",
      "\n",
      "Calculating welfare term.: 100%|██████████| 3/3 [00:00<00:00, 375.35it/s]\n",
      "2024-02-10 21:13:28,860 - INFO - Caching HB.\n",
      "\n",
      "Calculating HB.: 100%|██████████| 5/5 [00:00<00:00, 999.02it/s]\n",
      "\n",
      "Calculating taylor series terms for HB.: 100%|██████████| 7/7 [00:00<00:00, 6957.38it/s]\n",
      "\n",
      "caching small ub: 100%|██████████| 17/17 [00:00<00:00, 5655.39it/s]\n",
      "Optimizing: 21it [00:00, 200.00it/s]                        \n",
      "2024-02-10 21:13:28,934 - INFO - Evolving psi\n",
      "2024-02-10 21:13:28,937 - INFO - Caching HA.\n",
      "Calculating profit term.: 100%|██████████| 3/3 [00:00<00:00, 176.58it/s]\n",
      "Calculating welfare term.: 100%|██████████| 3/3 [00:00<00:00, 374.86it/s]\n",
      "2024-02-10 21:13:28,973 - INFO - Getting initial state.\n"
     ]
    },
    {
     "name": "stdout",
     "output_type": "stream",
     "text": [
      "205 -0.47539616305357857\n"
     ]
    },
    {
     "name": "stderr",
     "output_type": "stream",
     "text": [
      "Optimizing:   0%|          | 0/20 [00:00<?, ?it/s]2024-02-10 21:13:28,976 - INFO - Caching HA.\n",
      "\n",
      "Calculating profit term.: 100%|██████████| 3/3 [00:00<00:00, 176.53it/s]\n",
      "\n",
      "Calculating welfare term.: 100%|██████████| 3/3 [00:00<00:00, 374.96it/s]\n",
      "2024-02-10 21:13:29,008 - INFO - Caching HB.\n",
      "\n",
      "Calculating HB.: 100%|██████████| 5/5 [00:00<00:00, 999.21it/s]\n",
      "\n",
      "Calculating taylor series terms for HB.: 100%|██████████| 7/7 [00:00<00:00, 7003.85it/s]\n",
      "\n",
      "caching small ub: 100%|██████████| 17/17 [00:00<00:00, 8482.41it/s]\n",
      "Optimizing: 21it [00:00, 221.07it/s]              \n",
      "2024-02-10 21:13:29,070 - INFO - Evolving psi\n",
      "2024-02-10 21:13:29,072 - INFO - Caching HA.\n",
      "Calculating profit term.: 100%|██████████| 3/3 [00:00<00:00, 166.68it/s]\n",
      "Calculating welfare term.: 100%|██████████| 3/3 [00:00<00:00, 428.76it/s]\n",
      "2024-02-10 21:13:29,103 - INFO - Getting initial state.\n"
     ]
    },
    {
     "name": "stdout",
     "output_type": "stream",
     "text": [
      "206 -0.58547633130481\n"
     ]
    },
    {
     "name": "stderr",
     "output_type": "stream",
     "text": [
      "Optimizing:   0%|          | 0/20 [00:00<?, ?it/s]2024-02-10 21:13:29,107 - INFO - Caching HA.\n",
      "\n",
      "Calculating profit term.: 100%|██████████| 3/3 [00:00<00:00, 176.42it/s]\n",
      "\n",
      "Calculating welfare term.: 100%|██████████| 3/3 [00:00<00:00, 428.66it/s]\n",
      "2024-02-10 21:13:29,136 - INFO - Caching HB.\n",
      "\n",
      "Calculating HB.: 100%|██████████| 5/5 [00:00<00:00, 832.90it/s]\n",
      "\n",
      "Calculating taylor series terms for HB.: 100%|██████████| 7/7 [00:00<00:00, 6998.84it/s]\n",
      "\n",
      "caching small ub: 100%|██████████| 17/17 [00:00<00:00, 5667.08it/s]\n",
      "Optimizing: 21it [00:00, 185.83it/s]                        \n",
      "2024-02-10 21:13:29,219 - INFO - Evolving psi\n",
      "2024-02-10 21:13:29,221 - INFO - Caching HA.\n",
      "Calculating profit term.: 100%|██████████| 3/3 [00:00<00:00, 176.46it/s]\n",
      "Calculating welfare term.: 100%|██████████| 3/3 [00:00<00:00, 500.06it/s]\n",
      "2024-02-10 21:13:29,251 - INFO - Getting initial state.\n"
     ]
    },
    {
     "name": "stdout",
     "output_type": "stream",
     "text": [
      "207 -0.5390033877753103\n"
     ]
    },
    {
     "name": "stderr",
     "output_type": "stream",
     "text": [
      "Optimizing:   0%|          | 0/20 [00:00<?, ?it/s]2024-02-10 21:13:29,254 - INFO - Caching HA.\n",
      "\n",
      "Calculating profit term.: 100%|██████████| 3/3 [00:00<00:00, 176.39it/s]\n",
      "\n",
      "Calculating welfare term.: 100%|██████████| 3/3 [00:00<00:00, 428.44it/s]\n",
      "2024-02-10 21:13:29,284 - INFO - Caching HB.\n",
      "\n",
      "Calculating HB.: 100%|██████████| 5/5 [00:00<00:00, 1250.76it/s]\n",
      "\n",
      "Calculating taylor series terms for HB.: 100%|██████████| 7/7 [00:00<00:00, 6997.17it/s]\n",
      "\n",
      "caching small ub: 100%|██████████| 17/17 [00:00<00:00, 8476.36it/s]\n",
      "Optimizing: 21it [00:00, 244.17it/s]              \n",
      "2024-02-10 21:13:29,340 - INFO - Evolving psi\n",
      "2024-02-10 21:13:29,341 - INFO - Caching HA.\n",
      "Calculating profit term.: 100%|██████████| 3/3 [00:00<00:00, 166.61it/s]\n",
      "Calculating welfare term.: 100%|██████████| 3/3 [00:00<00:00, 428.56it/s]\n",
      "2024-02-10 21:13:29,372 - INFO - Getting initial state.\n"
     ]
    },
    {
     "name": "stdout",
     "output_type": "stream",
     "text": [
      "208 -0.7072391799435117\n"
     ]
    },
    {
     "name": "stderr",
     "output_type": "stream",
     "text": [
      "Optimizing:   0%|          | 0/20 [00:00<?, ?it/s]2024-02-10 21:13:29,375 - INFO - Caching HA.\n",
      "\n",
      "Calculating profit term.: 100%|██████████| 3/3 [00:00<00:00, 187.49it/s]\n",
      "\n",
      "Calculating welfare term.: 100%|██████████| 3/3 [00:00<00:00, 428.97it/s]\n",
      "2024-02-10 21:13:29,405 - INFO - Caching HB.\n",
      "\n",
      "Calculating HB.: 100%|██████████| 5/5 [00:00<00:00, 1251.73it/s]\n",
      "\n",
      "Calculating taylor series terms for HB.: 100%|██████████| 7/7 [00:00<00:00, 7002.18it/s]\n",
      "\n",
      "caching small ub: 100%|██████████| 17/17 [00:00<00:00, 8443.24it/s]\n",
      "Optimizing: 21it [00:00, 221.06it/s]              \n",
      "2024-02-10 21:13:29,470 - INFO - Evolving psi\n",
      "2024-02-10 21:13:29,473 - INFO - Caching HA.\n",
      "Calculating profit term.: 100%|██████████| 3/3 [00:00<00:00, 166.67it/s]\n",
      "Calculating welfare term.: 100%|██████████| 3/3 [00:00<00:00, 428.62it/s]\n",
      "2024-02-10 21:13:29,505 - INFO - Getting initial state.\n"
     ]
    },
    {
     "name": "stdout",
     "output_type": "stream",
     "text": [
      "209 -0.6290549890881749\n"
     ]
    },
    {
     "name": "stderr",
     "output_type": "stream",
     "text": [
      "Optimizing:   0%|          | 0/20 [00:00<?, ?it/s]2024-02-10 21:13:29,507 - INFO - Caching HA.\n",
      "\n",
      "Calculating profit term.: 100%|██████████| 3/3 [00:00<00:00, 166.71it/s]\n",
      "\n",
      "Calculating welfare term.: 100%|██████████| 3/3 [00:00<00:00, 428.89it/s]\n",
      "2024-02-10 21:13:29,538 - INFO - Caching HB.\n",
      "\n",
      "Calculating HB.: 100%|██████████| 5/5 [00:00<00:00, 1000.98it/s]\n",
      "\n",
      "Calculating taylor series terms for HB.: 100%|██████████| 7/7 [00:00<00:00, 7045.87it/s]\n",
      "\n",
      "caching small ub: 100%|██████████| 17/17 [00:00<00:00, 2427.84it/s]\n",
      "Optimizing: 21it [00:00, 238.65it/s]              \n",
      "2024-02-10 21:13:29,596 - INFO - Evolving psi\n",
      "2024-02-10 21:13:29,598 - INFO - Caching HA.\n",
      "Calculating profit term.: 100%|██████████| 3/3 [00:00<00:00, 166.72it/s]\n",
      "Calculating welfare term.: 100%|██████████| 3/3 [00:00<00:00, 428.47it/s]\n",
      "2024-02-10 21:13:29,629 - INFO - Getting initial state.\n"
     ]
    },
    {
     "name": "stdout",
     "output_type": "stream",
     "text": [
      "210 -0.7072776525688595\n"
     ]
    },
    {
     "name": "stderr",
     "output_type": "stream",
     "text": [
      "Optimizing:   0%|          | 0/20 [00:00<?, ?it/s]2024-02-10 21:13:29,631 - INFO - Caching HA.\n",
      "\n",
      "Calculating profit term.: 100%|██████████| 3/3 [00:00<00:00, 176.34it/s]\n",
      "\n",
      "Calculating welfare term.: 100%|██████████| 3/3 [00:00<00:00, 428.70it/s]\n",
      "2024-02-10 21:13:29,661 - INFO - Caching HB.\n",
      "\n",
      "Calculating HB.: 100%|██████████| 5/5 [00:00<00:00, 1250.24it/s]\n",
      "\n",
      "Calculating taylor series terms for HB.: 100%|██████████| 7/7 [00:00<00:00, 6942.57it/s]\n",
      "\n",
      "caching small ub: 100%|██████████| 17/17 [00:00<00:00, 16793.02it/s]\n",
      "Optimizing: 100%|██████████| 20/20 [00:00<00:00, 229.84it/s]\n",
      "2024-02-10 21:13:29,718 - INFO - Evolving psi\n",
      "2024-02-10 21:13:29,720 - INFO - Caching HA.\n",
      "Calculating profit term.: 100%|██████████| 3/3 [00:00<00:00, 166.70it/s]\n",
      "Calculating welfare term.: 100%|██████████| 3/3 [00:00<00:00, 375.04it/s]\n",
      "2024-02-10 21:13:29,751 - INFO - Getting initial state.\n"
     ]
    },
    {
     "name": "stdout",
     "output_type": "stream",
     "text": [
      "211 -0.5580501302745968\n"
     ]
    },
    {
     "name": "stderr",
     "output_type": "stream",
     "text": [
      "Optimizing:   0%|          | 0/20 [00:00<?, ?it/s]2024-02-10 21:13:29,754 - INFO - Caching HA.\n",
      "\n",
      "Calculating profit term.: 100%|██████████| 3/3 [00:00<00:00, 193.25it/s]\n",
      "\n",
      "Calculating welfare term.: 100%|██████████| 3/3 [00:00<00:00, 500.35it/s]\n",
      "2024-02-10 21:13:29,783 - INFO - Caching HB.\n",
      "\n",
      "Calculating HB.: 100%|██████████| 5/5 [00:00<00:00, 1000.26it/s]\n",
      "\n",
      "Calculating taylor series terms for HB.: 100%|██████████| 7/7 [00:00<00:00, 6992.17it/s]\n",
      "\n",
      "caching small ub: 100%|██████████| 17/17 [00:00<00:00, 8507.72it/s]\n",
      "Optimizing:  95%|█████████▌| 19/20 [00:00<00:00, 201.00it/s]\n",
      "2024-02-10 21:13:29,847 - INFO - Evolving psi\n",
      "2024-02-10 21:13:29,850 - INFO - Caching HA.\n",
      "Calculating profit term.: 100%|██████████| 3/3 [00:00<00:00, 176.57it/s]\n",
      "Calculating welfare term.: 100%|██████████| 3/3 [00:00<00:00, 375.08it/s]\n",
      "2024-02-10 21:13:29,881 - INFO - Getting initial state.\n"
     ]
    },
    {
     "name": "stdout",
     "output_type": "stream",
     "text": [
      "212 -0.4321439817229279\n"
     ]
    },
    {
     "name": "stderr",
     "output_type": "stream",
     "text": [
      "Optimizing:   0%|          | 0/20 [00:00<?, ?it/s]2024-02-10 21:13:29,884 - INFO - Caching HA.\n",
      "\n",
      "Calculating profit term.: 100%|██████████| 3/3 [00:00<00:00, 176.42it/s]\n",
      "\n",
      "Calculating welfare term.: 100%|██████████| 3/3 [00:00<00:00, 428.73it/s]\n",
      "2024-02-10 21:13:29,915 - INFO - Caching HB.\n",
      "\n",
      "Calculating HB.: 100%|██████████| 5/5 [00:00<00:00, 833.10it/s]\n",
      "\n",
      "Calculating taylor series terms for HB.: 100%|██████████| 7/7 [00:00<00:00, 6988.84it/s]\n",
      "\n",
      "caching small ub: 100%|██████████| 17/17 [00:00<00:00, 8487.46it/s]\n",
      "Optimizing: 21it [00:00, 235.93it/s]              \n",
      "2024-02-10 21:13:29,973 - INFO - Evolving psi\n",
      "2024-02-10 21:13:29,976 - INFO - Caching HA.\n",
      "Calculating profit term.: 100%|██████████| 3/3 [00:00<00:00, 176.46it/s]\n",
      "Calculating welfare term.: 100%|██████████| 3/3 [00:00<00:00, 375.13it/s]\n",
      "2024-02-10 21:13:30,006 - INFO - Getting initial state.\n"
     ]
    },
    {
     "name": "stdout",
     "output_type": "stream",
     "text": [
      "213 -0.47123825586441953\n"
     ]
    },
    {
     "name": "stderr",
     "output_type": "stream",
     "text": [
      "Optimizing:   0%|          | 0/20 [00:00<?, ?it/s]2024-02-10 21:13:30,009 - INFO - Caching HA.\n",
      "\n",
      "Calculating profit term.: 100%|██████████| 3/3 [00:00<00:00, 176.42it/s]\n",
      "\n",
      "Calculating welfare term.: 100%|██████████| 3/3 [00:00<00:00, 374.76it/s]\n",
      "2024-02-10 21:13:30,041 - INFO - Caching HB.\n",
      "\n",
      "Calculating HB.: 100%|██████████| 5/5 [00:00<00:00, 833.16it/s]\n",
      "\n",
      "Calculating taylor series terms for HB.: 100%|██████████| 7/7 [00:00<00:00, 7005.52it/s]\n",
      "\n",
      "caching small ub: 100%|██████████| 17/17 [00:00<00:00, 17111.39it/s]\n",
      "Optimizing:  75%|███████▌  | 15/20 [00:00<00:00, 189.89it/s]\n",
      "2024-02-10 21:13:30,088 - INFO - Evolving psi\n",
      "2024-02-10 21:13:30,090 - INFO - Caching HA.\n",
      "Calculating profit term.: 100%|██████████| 3/3 [00:00<00:00, 157.95it/s]\n",
      "Calculating welfare term.: 100%|██████████| 3/3 [00:00<00:00, 428.75it/s]\n",
      "2024-02-10 21:13:30,123 - INFO - Getting initial state.\n"
     ]
    },
    {
     "name": "stdout",
     "output_type": "stream",
     "text": [
      "214 -0.467790811154495\n"
     ]
    },
    {
     "name": "stderr",
     "output_type": "stream",
     "text": [
      "Optimizing:   0%|          | 0/20 [00:00<?, ?it/s]2024-02-10 21:13:30,126 - INFO - Caching HA.\n",
      "\n",
      "Calculating profit term.: 100%|██████████| 3/3 [00:00<00:00, 157.89it/s]\n",
      "\n",
      "Calculating welfare term.: 100%|██████████| 3/3 [00:00<00:00, 375.52it/s]\n",
      "2024-02-10 21:13:30,160 - INFO - Caching HB.\n",
      "\n",
      "Calculating HB.: 100%|██████████| 5/5 [00:00<00:00, 1249.72it/s]\n",
      "\n",
      "Calculating taylor series terms for HB.: 100%|██████████| 7/7 [00:00<00:00, 1755.57it/s]\n",
      "\n",
      "caching small ub: 100%|██████████| 17/17 [00:00<00:00, 3406.42it/s]\n",
      "Optimizing: 21it [00:00, 223.40it/s]              \n",
      "2024-02-10 21:13:30,220 - INFO - Evolving psi\n",
      "2024-02-10 21:13:30,222 - INFO - Caching HA.\n",
      "Calculating profit term.: 100%|██████████| 3/3 [00:00<00:00, 176.50it/s]\n",
      "Calculating welfare term.: 100%|██████████| 3/3 [00:00<00:00, 428.28it/s]\n",
      "2024-02-10 21:13:30,252 - INFO - Getting initial state.\n"
     ]
    },
    {
     "name": "stdout",
     "output_type": "stream",
     "text": [
      "215 -0.6318561428679519\n"
     ]
    },
    {
     "name": "stderr",
     "output_type": "stream",
     "text": [
      "Optimizing:   0%|          | 0/20 [00:00<?, ?it/s]2024-02-10 21:13:30,255 - INFO - Caching HA.\n",
      "\n",
      "Calculating profit term.: 100%|██████████| 3/3 [00:00<00:00, 166.77it/s]\n",
      "\n",
      "Calculating welfare term.: 100%|██████████| 3/3 [00:00<00:00, 375.27it/s]\n",
      "2024-02-10 21:13:30,286 - INFO - Caching HB.\n",
      "\n",
      "Calculating HB.: 100%|██████████| 5/5 [00:00<00:00, 1250.39it/s]\n",
      "\n",
      "Calculating taylor series terms for HB.: 100%|██████████| 7/7 [00:00<00:00, 7022.27it/s]\n",
      "\n",
      "caching small ub: 100%|██████████| 17/17 [00:00<00:00, 8529.09it/s]\n",
      "Optimizing: 21it [00:00, 233.34it/s]              \n",
      "2024-02-10 21:13:30,345 - INFO - Evolving psi\n",
      "2024-02-10 21:13:30,347 - INFO - Caching HA.\n",
      "Calculating profit term.: 100%|██████████| 3/3 [00:00<00:00, 164.74it/s]\n",
      "Calculating welfare term.: 100%|██████████| 3/3 [00:00<00:00, 333.44it/s]\n",
      "2024-02-10 21:13:30,380 - INFO - Getting initial state.\n"
     ]
    },
    {
     "name": "stdout",
     "output_type": "stream",
     "text": [
      "216 -0.5425093380991932\n"
     ]
    },
    {
     "name": "stderr",
     "output_type": "stream",
     "text": [
      "Optimizing:   0%|          | 0/20 [00:00<?, ?it/s]2024-02-10 21:13:30,383 - INFO - Caching HA.\n",
      "\n",
      "Calculating profit term.: 100%|██████████| 3/3 [00:00<00:00, 187.61it/s]\n",
      "\n",
      "Calculating welfare term.: 100%|██████████| 3/3 [00:00<00:00, 375.03it/s]\n",
      "2024-02-10 21:13:30,415 - INFO - Caching HB.\n",
      "\n",
      "Calculating HB.: 100%|██████████| 5/5 [00:00<00:00, 831.84it/s]\n",
      "\n",
      "Calculating taylor series terms for HB.: 100%|██████████| 7/7 [00:00<00:00, 7005.52it/s]\n",
      "\n",
      "caching small ub: 100%|██████████| 17/17 [00:00<00:00, 8496.56it/s]\n",
      "Optimizing: 100%|██████████| 20/20 [00:00<00:00, 220.92it/s]\n",
      "2024-02-10 21:13:30,474 - INFO - Evolving psi\n",
      "2024-02-10 21:13:30,476 - INFO - Caching HA.\n",
      "Calculating profit term.: 100%|██████████| 3/3 [00:00<00:00, 166.48it/s]\n",
      "Calculating welfare term.: 100%|██████████| 3/3 [00:00<00:00, 428.37it/s]\n",
      "2024-02-10 21:13:30,509 - INFO - Getting initial state.\n"
     ]
    },
    {
     "name": "stdout",
     "output_type": "stream",
     "text": [
      "217 -0.3892757785132652\n"
     ]
    },
    {
     "name": "stderr",
     "output_type": "stream",
     "text": [
      "Optimizing:   0%|          | 0/20 [00:00<?, ?it/s]2024-02-10 21:13:30,511 - INFO - Caching HA.\n",
      "\n",
      "Calculating profit term.: 100%|██████████| 3/3 [00:00<00:00, 166.73it/s]\n",
      "\n",
      "Calculating welfare term.: 100%|██████████| 3/3 [00:00<00:00, 428.75it/s]\n",
      "2024-02-10 21:13:30,541 - INFO - Caching HB.\n",
      "\n",
      "Calculating HB.: 100%|██████████| 5/5 [00:00<00:00, 834.52it/s]\n",
      "\n",
      "Calculating taylor series terms for HB.: 100%|██████████| 7/7 [00:00<00:00, 6998.84it/s]\n",
      "\n",
      "caching small ub: 100%|██████████| 17/17 [00:00<00:00, 17025.59it/s]\n",
      "Optimizing: 21it [00:00, 241.38it/s]              \n",
      "2024-02-10 21:13:30,598 - INFO - Evolving psi\n",
      "2024-02-10 21:13:30,601 - INFO - Caching HA.\n",
      "Calculating profit term.: 100%|██████████| 3/3 [00:00<00:00, 187.52it/s]\n",
      "Calculating welfare term.: 100%|██████████| 3/3 [00:00<00:00, 428.87it/s]\n",
      "2024-02-10 21:13:30,631 - INFO - Getting initial state.\n"
     ]
    },
    {
     "name": "stdout",
     "output_type": "stream",
     "text": [
      "218 -0.49108543104385166\n"
     ]
    },
    {
     "name": "stderr",
     "output_type": "stream",
     "text": [
      "Optimizing:   0%|          | 0/20 [00:00<?, ?it/s]2024-02-10 21:13:30,633 - INFO - Caching HA.\n",
      "\n",
      "Calculating profit term.: 100%|██████████| 3/3 [00:00<00:00, 176.54it/s]\n",
      "\n",
      "Calculating welfare term.: 100%|██████████| 3/3 [00:00<00:00, 428.75it/s]\n",
      "2024-02-10 21:13:30,664 - INFO - Caching HB.\n",
      "\n",
      "Calculating HB.: 100%|██████████| 5/5 [00:00<00:00, 1249.72it/s]\n",
      "\n",
      "Calculating taylor series terms for HB.: 100%|██████████| 7/7 [00:00<00:00, 7000.51it/s]\n",
      "\n",
      "caching small ub: 100%|██████████| 17/17 [00:00<00:00, 8507.72it/s]\n",
      "Optimizing: 100%|██████████| 20/20 [00:00<00:00, 232.55it/s]\n",
      "2024-02-10 21:13:30,719 - INFO - Evolving psi\n",
      "2024-02-10 21:13:30,722 - INFO - Caching HA.\n",
      "Calculating profit term.: 100%|██████████| 3/3 [00:00<00:00, 176.77it/s]\n",
      "Calculating welfare term.: 100%|██████████| 3/3 [00:00<00:00, 428.66it/s]\n",
      "2024-02-10 21:13:30,752 - INFO - Getting initial state.\n"
     ]
    },
    {
     "name": "stdout",
     "output_type": "stream",
     "text": [
      "219 -0.4320269472605188\n"
     ]
    },
    {
     "name": "stderr",
     "output_type": "stream",
     "text": [
      "Optimizing:   0%|          | 0/20 [00:00<?, ?it/s]2024-02-10 21:13:30,754 - INFO - Caching HA.\n",
      "\n",
      "Calculating profit term.: 100%|██████████| 3/3 [00:00<00:00, 161.92it/s]\n",
      "\n",
      "Calculating welfare term.: 100%|██████████| 3/3 [00:00<00:00, 428.78it/s]\n",
      "2024-02-10 21:13:30,784 - INFO - Caching HB.\n",
      "\n",
      "Calculating HB.: 100%|██████████| 5/5 [00:00<00:00, 999.74it/s]\n",
      "\n",
      "Calculating taylor series terms for HB.: 100%|██████████| 7/7 [00:00<00:00, 6949.14it/s]\n",
      "\n",
      "caching small ub: 100%|██████████| 17/17 [00:00<00:00, 17070.43it/s]\n",
      "Optimizing: 21it [00:00, 229.39it/s]              \n",
      "2024-02-10 21:13:30,846 - INFO - Evolving psi\n",
      "2024-02-10 21:13:30,848 - INFO - Caching HA.\n",
      "Calculating profit term.: 100%|██████████| 3/3 [00:00<00:00, 166.71it/s]\n",
      "Calculating welfare term.: 100%|██████████| 3/3 [00:00<00:00, 428.63it/s]\n",
      "2024-02-10 21:13:30,879 - INFO - Getting initial state.\n"
     ]
    },
    {
     "name": "stdout",
     "output_type": "stream",
     "text": [
      "220 -0.45600356976870327\n"
     ]
    },
    {
     "name": "stderr",
     "output_type": "stream",
     "text": [
      "Optimizing:   0%|          | 0/20 [00:00<?, ?it/s]2024-02-10 21:13:30,882 - INFO - Caching HA.\n",
      "\n",
      "Calculating profit term.: 100%|██████████| 3/3 [00:00<00:00, 166.62it/s]\n",
      "\n",
      "Calculating welfare term.: 100%|██████████| 3/3 [00:00<00:00, 499.90it/s]\n",
      "2024-02-10 21:13:30,914 - INFO - Caching HB.\n",
      "\n",
      "Calculating HB.: 100%|██████████| 5/5 [00:00<00:00, 715.04it/s]\n",
      "\n",
      "Calculating taylor series terms for HB.: 100%|██████████| 7/7 [00:00<00:00, 7012.21it/s]\n",
      "\n",
      "caching small ub: 100%|██████████| 17/17 [00:00<00:00, 16997.18it/s]\n",
      "Optimizing: 100%|██████████| 20/20 [00:00<00:00, 222.23it/s]\n",
      "2024-02-10 21:13:30,972 - INFO - Evolving psi\n",
      "2024-02-10 21:13:30,974 - INFO - Caching HA.\n",
      "Calculating profit term.: 100%|██████████| 3/3 [00:00<00:00, 187.56it/s]\n",
      "Calculating welfare term.: 100%|██████████| 3/3 [00:00<00:00, 499.74it/s]\n",
      "2024-02-10 21:13:31,003 - INFO - Getting initial state.\n"
     ]
    },
    {
     "name": "stdout",
     "output_type": "stream",
     "text": [
      "221 -0.6331607855372186\n"
     ]
    },
    {
     "name": "stderr",
     "output_type": "stream",
     "text": [
      "Optimizing:   0%|          | 0/20 [00:00<?, ?it/s]2024-02-10 21:13:31,006 - INFO - Caching HA.\n",
      "\n",
      "Calculating profit term.: 100%|██████████| 3/3 [00:00<00:00, 157.87it/s]\n",
      "\n",
      "Calculating welfare term.: 100%|██████████| 3/3 [00:00<00:00, 428.50it/s]\n",
      "2024-02-10 21:13:31,039 - INFO - Caching HB.\n",
      "\n",
      "Calculating HB.: 100%|██████████| 5/5 [00:00<00:00, 1250.24it/s]\n",
      "\n",
      "Calculating taylor series terms for HB.: 100%|██████████| 7/7 [00:00<00:00, 2333.87it/s]\n",
      "\n",
      "caching small ub: 100%|██████████| 17/17 [00:00<00:00, 8501.63it/s]\n",
      "Optimizing: 21it [00:00, 221.07it/s]              \n",
      "2024-02-10 21:13:31,101 - INFO - Evolving psi\n",
      "2024-02-10 21:13:31,103 - INFO - Caching HA.\n",
      "Calculating profit term.: 100%|██████████| 3/3 [00:00<00:00, 157.88it/s]\n",
      "Calculating welfare term.: 100%|██████████| 3/3 [00:00<00:00, 428.34it/s]\n",
      "2024-02-10 21:13:31,136 - INFO - Getting initial state.\n"
     ]
    },
    {
     "name": "stdout",
     "output_type": "stream",
     "text": [
      "222 -0.704373259131561\n"
     ]
    },
    {
     "name": "stderr",
     "output_type": "stream",
     "text": [
      "Optimizing:   0%|          | 0/20 [00:00<?, ?it/s]2024-02-10 21:13:31,138 - INFO - Caching HA.\n",
      "\n",
      "Calculating profit term.: 100%|██████████| 3/3 [00:00<00:00, 176.42it/s]\n",
      "\n",
      "Calculating welfare term.: 100%|██████████| 3/3 [00:00<00:00, 428.69it/s]\n",
      "2024-02-10 21:13:31,168 - INFO - Caching HB.\n",
      "\n",
      "Calculating HB.: 100%|██████████| 5/5 [00:00<00:00, 1249.35it/s]\n",
      "\n",
      "Calculating taylor series terms for HB.: 100%|██████████| 7/7 [00:00<00:00, 6978.88it/s]\n",
      "\n",
      "caching small ub: 100%|██████████| 17/17 [00:00<00:00, 8498.59it/s]\n",
      "Optimizing: 21it [00:00, 244.18it/s]              \n",
      "2024-02-10 21:13:31,225 - INFO - Evolving psi\n",
      "2024-02-10 21:13:31,226 - INFO - Caching HA.\n",
      "Calculating profit term.: 100%|██████████| 3/3 [00:00<00:00, 166.59it/s]\n",
      "Calculating welfare term.: 100%|██████████| 3/3 [00:00<00:00, 375.26it/s]\n",
      "2024-02-10 21:13:31,260 - INFO - Getting initial state.\n"
     ]
    },
    {
     "name": "stdout",
     "output_type": "stream",
     "text": [
      "223 -0.5128947546091035\n"
     ]
    },
    {
     "name": "stderr",
     "output_type": "stream",
     "text": [
      "Optimizing:   0%|          | 0/20 [00:00<?, ?it/s]2024-02-10 21:13:31,262 - INFO - Caching HA.\n",
      "\n",
      "Calculating profit term.: 100%|██████████| 3/3 [00:00<00:00, 176.60it/s]\n",
      "\n",
      "Calculating welfare term.: 100%|██████████| 3/3 [00:00<00:00, 428.66it/s]\n",
      "2024-02-10 21:13:31,292 - INFO - Caching HB.\n",
      "\n",
      "Calculating HB.: 100%|██████████| 5/5 [00:00<00:00, 833.89it/s]\n",
      "\n",
      "Calculating taylor series terms for HB.: 100%|██████████| 7/7 [00:00<00:00, 7047.56it/s]\n",
      "\n",
      "caching small ub: 100%|██████████| 17/17 [00:00<00:00, 8536.23it/s]\n",
      "Optimizing: 21it [00:00, 229.43it/s]              \n",
      "2024-02-10 21:13:31,355 - INFO - Evolving psi\n",
      "2024-02-10 21:13:31,358 - INFO - Caching HA.\n",
      "Calculating profit term.: 100%|██████████| 3/3 [00:00<00:00, 187.51it/s]\n",
      "Calculating welfare term.: 100%|██████████| 3/3 [00:00<00:00, 375.03it/s]\n",
      "2024-02-10 21:13:31,387 - INFO - Getting initial state.\n"
     ]
    },
    {
     "name": "stdout",
     "output_type": "stream",
     "text": [
      "224 -0.5565900506984222\n"
     ]
    },
    {
     "name": "stderr",
     "output_type": "stream",
     "text": [
      "Optimizing:   0%|          | 0/20 [00:00<?, ?it/s]2024-02-10 21:13:31,390 - INFO - Caching HA.\n",
      "\n",
      "Calculating profit term.: 100%|██████████| 3/3 [00:00<00:00, 187.45it/s]\n",
      "\n",
      "Calculating welfare term.: 100%|██████████| 3/3 [00:00<00:00, 500.41it/s]\n",
      "2024-02-10 21:13:31,419 - INFO - Caching HB.\n",
      "\n",
      "Calculating HB.: 100%|██████████| 5/5 [00:00<00:00, 998.26it/s]\n",
      "\n",
      "Calculating taylor series terms for HB.: 100%|██████████| 7/7 [00:00<00:00, 7002.18it/s]\n",
      "\n",
      "caching small ub: 100%|██████████| 17/17 [00:00<00:00, 5670.68it/s]\n",
      "Optimizing: 100%|██████████| 20/20 [00:00<00:00, 219.80it/s]\n",
      "2024-02-10 21:13:31,481 - INFO - Evolving psi\n",
      "2024-02-10 21:13:31,484 - INFO - Caching HA.\n",
      "Calculating profit term.: 100%|██████████| 3/3 [00:00<00:00, 166.71it/s]\n",
      "Calculating welfare term.: 100%|██████████| 3/3 [00:00<00:00, 500.00it/s]\n",
      "2024-02-10 21:13:31,528 - INFO - Getting initial state.\n"
     ]
    },
    {
     "name": "stdout",
     "output_type": "stream",
     "text": [
      "225 -0.5377697083359512\n"
     ]
    },
    {
     "name": "stderr",
     "output_type": "stream",
     "text": [
      "Optimizing:   0%|          | 0/20 [00:00<?, ?it/s]2024-02-10 21:13:31,531 - INFO - Caching HA.\n",
      "\n",
      "Calculating profit term.: 100%|██████████| 3/3 [00:00<00:00, 176.54it/s]\n",
      "\n",
      "Calculating welfare term.: 100%|██████████| 3/3 [00:00<00:00, 375.14it/s]\n",
      "2024-02-10 21:13:31,563 - INFO - Caching HB.\n",
      "\n",
      "Calculating HB.: 100%|██████████| 5/5 [00:00<00:00, 1000.41it/s]\n",
      "\n",
      "Calculating taylor series terms for HB.: 100%|██████████| 7/7 [00:00<00:00, 3491.93it/s]\n",
      "\n",
      "caching small ub: 100%|██████████| 17/17 [00:00<00:00, 8508.73it/s]\n",
      "Optimizing: 21it [00:00, 212.12it/s]              \n",
      "2024-02-10 21:13:31,630 - INFO - Evolving psi\n",
      "2024-02-10 21:13:31,632 - INFO - Caching HA.\n",
      "Calculating profit term.: 100%|██████████| 3/3 [00:00<00:00, 187.51it/s]\n",
      "Calculating welfare term.: 100%|██████████| 3/3 [00:00<00:00, 428.84it/s]\n",
      "2024-02-10 21:13:31,662 - INFO - Getting initial state.\n"
     ]
    },
    {
     "name": "stdout",
     "output_type": "stream",
     "text": [
      "226 -0.5741917320305755\n"
     ]
    },
    {
     "name": "stderr",
     "output_type": "stream",
     "text": [
      "Optimizing:   0%|          | 0/20 [00:00<?, ?it/s]2024-02-10 21:13:31,664 - INFO - Caching HA.\n",
      "\n",
      "Calculating profit term.: 100%|██████████| 3/3 [00:00<00:00, 187.60it/s]\n",
      "\n",
      "Calculating welfare term.: 100%|██████████| 3/3 [00:00<00:00, 428.44it/s]\n",
      "2024-02-10 21:13:31,693 - INFO - Caching HB.\n",
      "\n",
      "Calculating HB.: 100%|██████████| 5/5 [00:00<00:00, 1000.02it/s]\n",
      "\n",
      "Calculating taylor series terms for HB.: 100%|██████████| 7/7 [00:00<00:00, 6990.51it/s]\n",
      "\n",
      "caching small ub: 100%|██████████| 17/17 [00:00<00:00, 8501.63it/s]\n",
      "Optimizing: 21it [00:00, 247.03it/s]              \n",
      "2024-02-10 21:13:31,750 - INFO - Evolving psi\n",
      "2024-02-10 21:13:31,753 - INFO - Caching HA.\n",
      "Calculating profit term.: 100%|██████████| 3/3 [00:00<00:00, 166.69it/s]\n",
      "Calculating welfare term.: 100%|██████████| 3/3 [00:00<00:00, 428.18it/s]\n",
      "2024-02-10 21:13:31,785 - INFO - Getting initial state.\n"
     ]
    },
    {
     "name": "stdout",
     "output_type": "stream",
     "text": [
      "227 -0.5936969290923881\n"
     ]
    },
    {
     "name": "stderr",
     "output_type": "stream",
     "text": [
      "Optimizing:   0%|          | 0/20 [00:00<?, ?it/s]2024-02-10 21:13:31,787 - INFO - Caching HA.\n",
      "\n",
      "Calculating profit term.: 100%|██████████| 3/3 [00:00<00:00, 157.94it/s]\n",
      "\n",
      "Calculating welfare term.: 100%|██████████| 3/3 [00:00<00:00, 428.59it/s]\n",
      "2024-02-10 21:13:31,818 - INFO - Caching HB.\n",
      "\n",
      "Calculating HB.: 100%|██████████| 5/5 [00:00<00:00, 999.64it/s]\n",
      "\n",
      "Calculating taylor series terms for HB.: 100%|██████████| 7/7 [00:00<?, ?it/s]\u001B[A\n",
      "\n",
      "caching small ub: 100%|██████████| 17/17 [00:00<00:00, 8486.45it/s]\n",
      "Optimizing: 21it [00:00, 231.18it/s]              \n",
      "2024-02-10 21:13:31,878 - INFO - Evolving psi\n",
      "2024-02-10 21:13:31,881 - INFO - Caching HA.\n",
      "Calculating profit term.: 100%|██████████| 3/3 [00:00<00:00, 157.89it/s]\n",
      "Calculating welfare term.: 100%|██████████| 3/3 [00:00<00:00, 428.53it/s]\n",
      "2024-02-10 21:13:31,914 - INFO - Getting initial state.\n"
     ]
    },
    {
     "name": "stdout",
     "output_type": "stream",
     "text": [
      "228 -0.49841959674571173\n"
     ]
    },
    {
     "name": "stderr",
     "output_type": "stream",
     "text": [
      "Optimizing:   0%|          | 0/20 [00:00<?, ?it/s]2024-02-10 21:13:31,916 - INFO - Caching HA.\n",
      "\n",
      "Calculating profit term.: 100%|██████████| 3/3 [00:00<00:00, 157.94it/s]\n",
      "\n",
      "Calculating welfare term.: 100%|██████████| 3/3 [00:00<00:00, 499.46it/s]\n",
      "2024-02-10 21:13:31,948 - INFO - Caching HB.\n",
      "\n",
      "Calculating HB.: 100%|██████████| 5/5 [00:00<00:00, 1000.69it/s]\n",
      "\n",
      "Calculating taylor series terms for HB.: 100%|██████████| 7/7 [00:00<00:00, 6995.50it/s]\n",
      "\n",
      "caching small ub: 100%|██████████| 17/17 [00:00<00:00, 5676.55it/s]\n",
      "Optimizing: 21it [00:00, 198.14it/s]                        \n",
      "2024-02-10 21:13:32,023 - INFO - Evolving psi\n",
      "2024-02-10 21:13:32,025 - INFO - Caching HA.\n",
      "Calculating profit term.: 100%|██████████| 3/3 [00:00<00:00, 187.51it/s]\n",
      "Calculating welfare term.: 100%|██████████| 3/3 [00:00<00:00, 374.79it/s]\n",
      "2024-02-10 21:13:32,056 - INFO - Getting initial state.\n"
     ]
    },
    {
     "name": "stdout",
     "output_type": "stream",
     "text": [
      "229 -0.5769653924441787\n"
     ]
    },
    {
     "name": "stderr",
     "output_type": "stream",
     "text": [
      "Optimizing:   0%|          | 0/20 [00:00<?, ?it/s]2024-02-10 21:13:32,058 - INFO - Caching HA.\n",
      "\n",
      "Calculating profit term.: 100%|██████████| 3/3 [00:00<00:00, 166.75it/s]\n",
      "\n",
      "Calculating welfare term.: 100%|██████████| 3/3 [00:00<00:00, 427.76it/s]\n",
      "2024-02-10 21:13:32,090 - INFO - Caching HB.\n",
      "\n",
      "Calculating HB.: 100%|██████████| 5/5 [00:00<00:00, 1249.79it/s]\n",
      "\n",
      "Calculating taylor series terms for HB.: 100%|██████████| 7/7 [00:00<00:00, 7025.63it/s]\n",
      "\n",
      "caching small ub: 100%|██████████| 17/17 [00:00<00:00, 8520.93it/s]\n",
      "Optimizing: 21it [00:00, 189.20it/s]                        \n",
      "2024-02-10 21:13:32,170 - INFO - Evolving psi\n",
      "2024-02-10 21:13:32,174 - INFO - Caching HA.\n",
      "Calculating profit term.: 100%|██████████| 3/3 [00:00<00:00, 176.50it/s]\n",
      "Calculating welfare term.: 100%|██████████| 3/3 [00:00<00:00, 230.61it/s]\n",
      "2024-02-10 21:13:32,214 - INFO - Getting initial state.\n"
     ]
    },
    {
     "name": "stdout",
     "output_type": "stream",
     "text": [
      "230 -0.6311658983508566\n"
     ]
    },
    {
     "name": "stderr",
     "output_type": "stream",
     "text": [
      "Optimizing:   0%|          | 0/20 [00:00<?, ?it/s]2024-02-10 21:13:32,219 - INFO - Caching HA.\n",
      "\n",
      "Calculating profit term.: 100%|██████████| 3/3 [00:00<00:00, 157.98it/s]\n",
      "\n",
      "Calculating welfare term.: 100%|██████████| 3/3 [00:00<00:00, 375.02it/s]\n",
      "2024-02-10 21:13:32,260 - INFO - Caching HB.\n",
      "\n",
      "Calculating HB.: 100%|██████████| 5/5 [00:00<00:00, 714.36it/s]\n",
      "\n",
      "Calculating taylor series terms for HB.: 100%|██████████| 7/7 [00:00<00:00, 7020.59it/s]\n",
      "\n",
      "caching small ub: 100%|██████████| 17/17 [00:00<00:00, 8499.60it/s]\n",
      "Optimizing: 21it [00:00, 201.93it/s]                        \n",
      "2024-02-10 21:13:32,323 - INFO - Evolving psi\n",
      "2024-02-10 21:13:32,325 - INFO - Caching HA.\n",
      "Calculating profit term.: 100%|██████████| 3/3 [00:00<00:00, 187.52it/s]\n",
      "Calculating welfare term.: 100%|██████████| 3/3 [00:00<00:00, 428.84it/s]\n",
      "2024-02-10 21:13:32,356 - INFO - Getting initial state.\n"
     ]
    },
    {
     "name": "stdout",
     "output_type": "stream",
     "text": [
      "231 -0.3197318424346619\n"
     ]
    },
    {
     "name": "stderr",
     "output_type": "stream",
     "text": [
      "Optimizing:   0%|          | 0/20 [00:00<?, ?it/s]2024-02-10 21:13:32,358 - INFO - Caching HA.\n",
      "\n",
      "Calculating profit term.: 100%|██████████| 3/3 [00:00<00:00, 176.53it/s]\n",
      "\n",
      "Calculating welfare term.: 100%|██████████| 3/3 [00:00<00:00, 375.08it/s]\n",
      "2024-02-10 21:13:32,390 - INFO - Caching HB.\n",
      "\n",
      "Calculating HB.: 100%|██████████| 5/5 [00:00<00:00, 999.64it/s]\n",
      "\n",
      "Calculating taylor series terms for HB.: 100%|██████████| 7/7 [00:00<00:00, 7030.68it/s]\n",
      "\n",
      "caching small ub: 100%|██████████| 17/17 [00:00<00:00, 8494.54it/s]\n",
      "Optimizing: 21it [00:00, 242.69it/s]              \n",
      "2024-02-10 21:13:32,445 - INFO - Evolving psi\n",
      "2024-02-10 21:13:32,448 - INFO - Caching HA.\n",
      "Calculating profit term.: 100%|██████████| 3/3 [00:00<00:00, 166.72it/s]\n",
      "Calculating welfare term.: 100%|██████████| 3/3 [00:00<00:00, 428.63it/s]\n",
      "2024-02-10 21:13:32,480 - INFO - Getting initial state.\n"
     ]
    },
    {
     "name": "stdout",
     "output_type": "stream",
     "text": [
      "232 -0.4777729878826381\n"
     ]
    },
    {
     "name": "stderr",
     "output_type": "stream",
     "text": [
      "Optimizing:   0%|          | 0/20 [00:00<?, ?it/s]2024-02-10 21:13:32,482 - INFO - Caching HA.\n",
      "\n",
      "Calculating profit term.: 100%|██████████| 3/3 [00:00<00:00, 187.51it/s]\n",
      "\n",
      "Calculating welfare term.: 100%|██████████| 3/3 [00:00<00:00, 428.62it/s]\n",
      "2024-02-10 21:13:32,512 - INFO - Caching HB.\n",
      "\n",
      "Calculating HB.: 100%|██████████| 5/5 [00:00<00:00, 833.39it/s]\n",
      "\n",
      "Calculating taylor series terms for HB.: 100%|██████████| 7/7 [00:00<?, ?it/s]\u001B[A\n",
      "\n",
      "caching small ub: 100%|██████████| 17/17 [00:00<00:00, 5666.18it/s]\n",
      "Optimizing: 21it [00:00, 230.03it/s]              \n",
      "2024-02-10 21:13:32,574 - INFO - Evolving psi\n",
      "2024-02-10 21:13:32,577 - INFO - Caching HA.\n",
      "Calculating profit term.: 100%|██████████| 3/3 [00:00<00:00, 187.54it/s]\n",
      "Calculating welfare term.: 100%|██████████| 3/3 [00:00<00:00, 427.83it/s]\n",
      "2024-02-10 21:13:32,609 - INFO - Getting initial state.\n"
     ]
    },
    {
     "name": "stdout",
     "output_type": "stream",
     "text": [
      "233 -0.5955472586717062\n"
     ]
    },
    {
     "name": "stderr",
     "output_type": "stream",
     "text": [
      "Optimizing:   0%|          | 0/20 [00:00<?, ?it/s]2024-02-10 21:13:32,612 - INFO - Caching HA.\n",
      "\n",
      "Calculating profit term.: 100%|██████████| 3/3 [00:00<00:00, 176.44it/s]\n",
      "\n",
      "Calculating welfare term.: 100%|██████████| 3/3 [00:00<00:00, 333.45it/s]\n",
      "2024-02-10 21:13:32,643 - INFO - Caching HB.\n",
      "\n",
      "Calculating HB.: 100%|██████████| 5/5 [00:00<00:00, 1001.07it/s]\n",
      "\n",
      "Calculating taylor series terms for HB.: 100%|██████████| 7/7 [00:00<00:00, 7005.52it/s]\n",
      "\n",
      "caching small ub: 100%|██████████| 17/17 [00:00<00:00, 5647.78it/s]\n",
      "Optimizing: 100%|██████████| 20/20 [00:00<00:00, 220.92it/s]\n",
      "2024-02-10 21:13:32,702 - INFO - Evolving psi\n",
      "2024-02-10 21:13:32,706 - INFO - Caching HA.\n",
      "Calculating profit term.: 100%|██████████| 3/3 [00:00<00:00, 187.56it/s]\n",
      "Calculating welfare term.: 100%|██████████| 3/3 [00:00<00:00, 428.34it/s]\n",
      "2024-02-10 21:13:32,736 - INFO - Getting initial state.\n"
     ]
    },
    {
     "name": "stdout",
     "output_type": "stream",
     "text": [
      "234 -0.5558636981284442\n"
     ]
    },
    {
     "name": "stderr",
     "output_type": "stream",
     "text": [
      "Optimizing:   0%|          | 0/20 [00:00<?, ?it/s]2024-02-10 21:13:32,739 - INFO - Caching HA.\n",
      "\n",
      "Calculating profit term.: 100%|██████████| 3/3 [00:00<00:00, 176.41it/s]\n",
      "\n",
      "Calculating welfare term.: 100%|██████████| 3/3 [00:00<00:00, 375.21it/s]\n",
      "2024-02-10 21:13:32,771 - INFO - Caching HB.\n",
      "\n",
      "Calculating HB.: 100%|██████████| 5/5 [00:00<00:00, 1251.73it/s]\n",
      "\n",
      "Calculating taylor series terms for HB.: 100%|██████████| 7/7 [00:00<00:00, 6960.68it/s]\n",
      "\n",
      "caching small ub: 100%|██████████| 17/17 [00:00<00:00, 8507.72it/s]\n",
      "Optimizing: 21it [00:00, 235.93it/s]              \n",
      "2024-02-10 21:13:32,828 - INFO - Evolving psi\n",
      "2024-02-10 21:13:32,831 - INFO - Caching HA.\n",
      "Calculating profit term.: 100%|██████████| 3/3 [00:00<00:00, 176.50it/s]\n",
      "Calculating welfare term.: 100%|██████████| 3/3 [00:00<00:00, 428.37it/s]\n",
      "2024-02-10 21:13:32,862 - INFO - Getting initial state.\n"
     ]
    },
    {
     "name": "stdout",
     "output_type": "stream",
     "text": [
      "235 -0.7043181839970343\n"
     ]
    },
    {
     "name": "stderr",
     "output_type": "stream",
     "text": [
      "Optimizing:   0%|          | 0/20 [00:00<?, ?it/s]2024-02-10 21:13:32,865 - INFO - Caching HA.\n",
      "\n",
      "Calculating profit term.: 100%|██████████| 3/3 [00:00<00:00, 166.69it/s]\n",
      "\n",
      "Calculating welfare term.: 100%|██████████| 3/3 [00:00<00:00, 374.98it/s]\n",
      "2024-02-10 21:13:32,897 - INFO - Caching HB.\n",
      "\n",
      "Calculating HB.: 100%|██████████| 5/5 [00:00<00:00, 1248.60it/s]\n",
      "\n",
      "Calculating taylor series terms for HB.: 100%|██████████| 7/7 [00:00<00:00, 7002.18it/s]\n",
      "\n",
      "caching small ub: 100%|██████████| 17/17 [00:00<00:00, 8488.47it/s]\n",
      "Optimizing:  95%|█████████▌| 19/20 [00:00<00:00, 211.11it/s]\n",
      "2024-02-10 21:13:32,955 - INFO - Evolving psi\n",
      "2024-02-10 21:13:32,958 - INFO - Caching HA.\n",
      "Calculating profit term.: 100%|██████████| 3/3 [00:00<00:00, 200.09it/s]\n",
      "Calculating welfare term.: 100%|██████████| 3/3 [00:00<00:00, 428.38it/s]\n",
      "2024-02-10 21:13:32,987 - INFO - Getting initial state.\n"
     ]
    },
    {
     "name": "stdout",
     "output_type": "stream",
     "text": [
      "236 -0.4509023788393823\n"
     ]
    },
    {
     "name": "stderr",
     "output_type": "stream",
     "text": [
      "Optimizing:   0%|          | 0/20 [00:00<?, ?it/s]2024-02-10 21:13:32,989 - INFO - Caching HA.\n",
      "\n",
      "Calculating profit term.: 100%|██████████| 3/3 [00:00<00:00, 166.71it/s]\n",
      "\n",
      "Calculating welfare term.: 100%|██████████| 3/3 [00:00<00:00, 351.29it/s]\n",
      "2024-02-10 21:13:33,021 - INFO - Caching HB.\n",
      "\n",
      "Calculating HB.: 100%|██████████| 5/5 [00:00<00:00, 1250.17it/s]\n",
      "\n",
      "Calculating taylor series terms for HB.: 100%|██████████| 7/7 [00:00<00:00, 7034.05it/s]\n",
      "\n",
      "caching small ub: 100%|██████████| 17/17 [00:00<00:00, 8513.81it/s]\n",
      "Optimizing: 21it [00:00, 222.14it/s]              \n",
      "2024-02-10 21:13:33,083 - INFO - Evolving psi\n",
      "2024-02-10 21:13:33,085 - INFO - Caching HA.\n",
      "Calculating profit term.: 100%|██████████| 3/3 [00:00<00:00, 176.48it/s]\n",
      "Calculating welfare term.: 100%|██████████| 3/3 [00:00<00:00, 398.82it/s]\n",
      "2024-02-10 21:13:33,117 - INFO - Getting initial state.\n"
     ]
    },
    {
     "name": "stdout",
     "output_type": "stream",
     "text": [
      "237 -0.5910165338977662\n"
     ]
    },
    {
     "name": "stderr",
     "output_type": "stream",
     "text": [
      "Optimizing:   0%|          | 0/20 [00:00<?, ?it/s]2024-02-10 21:13:33,119 - INFO - Caching HA.\n",
      "\n",
      "Calculating profit term.: 100%|██████████| 3/3 [00:00<00:00, 176.57it/s]\n",
      "\n",
      "Calculating welfare term.: 100%|██████████| 3/3 [00:00<00:00, 374.99it/s]\n",
      "2024-02-10 21:13:33,150 - INFO - Caching HB.\n",
      "\n",
      "Calculating HB.: 100%|██████████| 5/5 [00:00<00:00, 1248.90it/s]\n",
      "\n",
      "Calculating taylor series terms for HB.: 100%|██████████| 7/7 [00:00<00:00, 3494.42it/s]\n",
      "\n",
      "caching small ub: 100%|██████████| 17/17 [00:00<00:00, 17017.46it/s]\n",
      "Optimizing: 21it [00:00, 233.35it/s]              \n",
      "2024-02-10 21:13:33,209 - INFO - Evolving psi\n",
      "2024-02-10 21:13:33,212 - INFO - Caching HA.\n",
      "Calculating profit term.: 100%|██████████| 3/3 [00:00<00:00, 176.48it/s]\n",
      "Calculating welfare term.: 100%|██████████| 3/3 [00:00<00:00, 299.84it/s]\n",
      "2024-02-10 21:13:33,245 - INFO - Getting initial state.\n"
     ]
    },
    {
     "name": "stdout",
     "output_type": "stream",
     "text": [
      "238 -0.5083592996523218\n"
     ]
    },
    {
     "name": "stderr",
     "output_type": "stream",
     "text": [
      "Optimizing:   0%|          | 0/20 [00:00<?, ?it/s]2024-02-10 21:13:33,247 - INFO - Caching HA.\n",
      "\n",
      "Calculating profit term.: 100%|██████████| 3/3 [00:00<00:00, 171.18it/s]\n",
      "\n",
      "Calculating welfare term.: 100%|██████████| 3/3 [00:00<00:00, 427.80it/s]\n",
      "2024-02-10 21:13:33,280 - INFO - Caching HB.\n",
      "\n",
      "Calculating HB.: 100%|██████████| 5/5 [00:00<00:00, 834.09it/s]\n",
      "\n",
      "Calculating taylor series terms for HB.: 100%|██████████| 7/7 [00:00<00:00, 7018.92it/s]\n",
      "\n",
      "caching small ub: 100%|██████████| 17/17 [00:00<00:00, 8499.60it/s]\n",
      "Optimizing: 21it [00:00, 219.85it/s]              \n",
      "2024-02-10 21:13:33,343 - INFO - Evolving psi\n",
      "2024-02-10 21:13:33,346 - INFO - Caching HA.\n",
      "Calculating profit term.: 100%|██████████| 3/3 [00:00<00:00, 166.71it/s]\n",
      "Calculating welfare term.: 100%|██████████| 3/3 [00:00<00:00, 500.20it/s]\n",
      "2024-02-10 21:13:33,378 - INFO - Getting initial state.\n"
     ]
    },
    {
     "name": "stdout",
     "output_type": "stream",
     "text": [
      "239 -0.5448428694069712\n"
     ]
    },
    {
     "name": "stderr",
     "output_type": "stream",
     "text": [
      "Optimizing:   0%|          | 0/20 [00:00<?, ?it/s]2024-02-10 21:13:33,380 - INFO - Caching HA.\n",
      "\n",
      "Calculating profit term.: 100%|██████████| 3/3 [00:00<00:00, 166.71it/s]\n",
      "\n",
      "Calculating welfare term.: 100%|██████████| 3/3 [00:00<00:00, 374.52it/s]\n",
      "2024-02-10 21:13:33,413 - INFO - Caching HB.\n",
      "\n",
      "Calculating HB.: 100%|██████████| 5/5 [00:00<00:00, 1248.90it/s]\n",
      "\n",
      "Calculating taylor series terms for HB.: 100%|██████████| 7/7 [00:00<00:00, 7008.86it/s]\n",
      "\n",
      "caching small ub: 100%|██████████| 17/17 [00:00<00:00, 8480.40it/s]\n",
      "Optimizing: 100%|██████████| 20/20 [00:00<00:00, 218.53it/s]\n",
      "2024-02-10 21:13:33,473 - INFO - Evolving psi\n",
      "2024-02-10 21:13:33,476 - INFO - Caching HA.\n",
      "Calculating profit term.: 100%|██████████| 3/3 [00:00<00:00, 187.27it/s]\n",
      "Calculating welfare term.: 100%|██████████| 3/3 [00:00<00:00, 428.70it/s]\n",
      "2024-02-10 21:13:33,507 - INFO - Getting initial state.\n"
     ]
    },
    {
     "name": "stdout",
     "output_type": "stream",
     "text": [
      "240 -0.4828299320116754\n"
     ]
    },
    {
     "name": "stderr",
     "output_type": "stream",
     "text": [
      "Optimizing:   0%|          | 0/20 [00:00<?, ?it/s]2024-02-10 21:13:33,510 - INFO - Caching HA.\n",
      "\n",
      "Calculating profit term.: 100%|██████████| 3/3 [00:00<00:00, 176.41it/s]\n",
      "\n",
      "Calculating welfare term.: 100%|██████████| 3/3 [00:00<00:00, 375.32it/s]\n",
      "2024-02-10 21:13:33,541 - INFO - Caching HB.\n",
      "\n",
      "Calculating HB.: 100%|██████████| 5/5 [00:00<00:00, 833.92it/s]\n",
      "\n",
      "Calculating taylor series terms for HB.: 100%|██████████| 7/7 [00:00<00:00, 7000.51it/s]\n",
      "\n",
      "caching small ub: 100%|██████████| 17/17 [00:00<00:00, 8552.62it/s]\n",
      "Optimizing: 21it [00:00, 223.41it/s]              \n",
      "2024-02-10 21:13:33,604 - INFO - Evolving psi\n",
      "2024-02-10 21:13:33,607 - INFO - Caching HA.\n",
      "Calculating profit term.: 100%|██████████| 3/3 [00:00<00:00, 187.48it/s]\n",
      "Calculating welfare term.: 100%|██████████| 3/3 [00:00<00:00, 428.68it/s]\n",
      "2024-02-10 21:13:33,638 - INFO - Getting initial state.\n"
     ]
    },
    {
     "name": "stdout",
     "output_type": "stream",
     "text": [
      "241 -0.36435723778727436\n"
     ]
    },
    {
     "name": "stderr",
     "output_type": "stream",
     "text": [
      "Optimizing:   0%|          | 0/20 [00:00<?, ?it/s]2024-02-10 21:13:33,640 - INFO - Caching HA.\n",
      "\n",
      "Calculating profit term.: 100%|██████████| 3/3 [00:00<00:00, 157.90it/s]\n",
      "\n",
      "Calculating welfare term.: 100%|██████████| 3/3 [00:00<00:00, 375.18it/s]\n",
      "2024-02-10 21:13:33,673 - INFO - Caching HB.\n",
      "\n",
      "Calculating HB.: 100%|██████████| 5/5 [00:00<00:00, 1251.66it/s]\n",
      "\n",
      "Calculating taylor series terms for HB.: 100%|██████████| 7/7 [00:00<00:00, 6987.18it/s]\n",
      "\n",
      "caching small ub: 100%|██████████| 17/17 [00:00<00:00, 2428.25it/s]\n",
      "Optimizing: 21it [00:00, 221.08it/s]              \n",
      "2024-02-10 21:13:33,735 - INFO - Evolving psi\n",
      "2024-02-10 21:13:33,737 - INFO - Caching HA.\n",
      "Calculating profit term.: 100%|██████████| 3/3 [00:00<00:00, 200.00it/s]\n",
      "Calculating welfare term.: 100%|██████████| 3/3 [00:00<00:00, 428.84it/s]"
     ]
    },
    {
     "name": "stdout",
     "output_type": "stream",
     "text": [
      "242 -0.47166484308407275\n"
     ]
    },
    {
     "name": "stderr",
     "output_type": "stream",
     "text": [
      "\n"
     ]
    }
   ],
   "source": [
    "ls = []\n",
    "for i in range(202, 243):\n",
    "    group = m.groups[i]\n",
    "\n",
    "    # Perform QAOA\n",
    "    Q = m.Qs[group.nodes]\n",
    "    A = m.As[group.nodes][:, group.nodes]\n",
    "\n",
    "    n = StateVectorLLPV2(Q, A, m.e, m.p)\n",
    "\n",
    "    # to edit -------------------------------------------------------\n",
    "    n.optimized(maxiter=20)\n",
    "    delattr(n, 'ub_coarse_cache')\n",
    "    delattr(n, 'hb_taylor_terms')\n",
    "    delattr(n, 'hb')\n",
    "    delattr(n, 'ha')\n",
    "    print(i, n.get_energy())\n",
    "    if ( n.get_energy()) > 0:\n",
    "        ls.append(i)\n",
    "\n"
   ],
   "metadata": {
    "collapsed": false,
    "ExecuteTime": {
     "end_time": "2024-02-10T14:43:33.777469800Z",
     "start_time": "2024-02-10T14:43:28.233095200Z"
    }
   },
   "id": "d0c2c6d39373337b",
   "execution_count": 51
  },
  {
   "cell_type": "code",
   "outputs": [
    {
     "data": {
      "text/plain": "3"
     },
     "execution_count": 31,
     "metadata": {},
     "output_type": "execute_result"
    }
   ],
   "source": [
    "m.groups[202].size"
   ],
   "metadata": {
    "collapsed": false,
    "ExecuteTime": {
     "end_time": "2024-02-10T14:32:18.944773Z",
     "start_time": "2024-02-10T14:32:18.924775300Z"
    }
   },
   "id": "c985a24d9f2db293",
   "execution_count": 31
  },
  {
   "cell_type": "code",
   "outputs": [
    {
     "data": {
      "text/plain": "[]"
     },
     "execution_count": 52,
     "metadata": {},
     "output_type": "execute_result"
    }
   ],
   "source": [
    "ls"
   ],
   "metadata": {
    "collapsed": false,
    "ExecuteTime": {
     "end_time": "2024-02-10T14:43:55.098299700Z",
     "start_time": "2024-02-10T14:43:55.094300400Z"
    }
   },
   "id": "8b8e92f1cd6a770a",
   "execution_count": 52
  },
  {
   "cell_type": "code",
   "outputs": [
    {
     "name": "stderr",
     "output_type": "stream",
     "text": [
      "2024-02-10 21:03:06,212 - INFO - Getting initial state.\n",
      "Optimizing:   0%|          | 0/20 [00:00<?, ?it/s]2024-02-10 21:03:06,215 - INFO - Caching HA.\n",
      "\n",
      "Calculating profit term.: 100%|██████████| 3/3 [00:00<00:00, 200.03it/s]\n",
      "\n",
      "Calculating welfare term.: 100%|██████████| 3/3 [00:00<00:00, 375.09it/s]\n",
      "2024-02-10 21:03:06,246 - INFO - Caching HB.\n",
      "\n",
      "Calculating HB.: 100%|██████████| 5/5 [00:00<00:00, 625.01it/s]\n",
      "\n",
      "Calculating taylor series terms for HB.: 100%|██████████| 7/7 [00:00<00:00, 1396.70it/s]\n",
      "\n",
      "caching small ub: 100%|██████████| 17/17 [00:00<00:00, 5650.46it/s]\n",
      "Optimizing: 21it [00:00, 93.75it/s]                        \n",
      "2024-02-10 21:03:06,440 - INFO - Evolving psi\n",
      "2024-02-10 21:03:06,444 - INFO - Caching HA.\n",
      "Calculating profit term.: 100%|██████████| 3/3 [00:00<00:00, 120.05it/s]\n",
      "Calculating welfare term.: 100%|██████████| 3/3 [00:00<00:00, 374.98it/s]"
     ]
    },
    {
     "name": "stdout",
     "output_type": "stream",
     "text": [
      "0.3249757774897448\n"
     ]
    },
    {
     "name": "stderr",
     "output_type": "stream",
     "text": [
      "\n"
     ]
    }
   ],
   "source": [
    "group = m.groups[205]\n",
    "\n",
    "# Perform QAOA\n",
    "Q = m.Qs[group.nodes]\n",
    "A = m.As[group.nodes][:, group.nodes]\n",
    "\n",
    "n = StateVectorLLPV2(Q, A, m.e, m.p)\n",
    "\n",
    "# to edit -------------------------------------------------------\n",
    "n.optimized(maxiter=20)\n",
    "delattr(n, 'ub_coarse_cache')\n",
    "delattr(n, 'hb_taylor_terms')\n",
    "delattr(n, 'hb')\n",
    "delattr(n, 'ha')\n",
    "print(n.get_energy())"
   ],
   "metadata": {
    "collapsed": false,
    "ExecuteTime": {
     "end_time": "2024-02-10T14:33:06.522716600Z",
     "start_time": "2024-02-10T14:33:06.211723400Z"
    }
   },
   "id": "bb660dff8c8734a2",
   "execution_count": 33
  },
  {
   "cell_type": "code",
   "outputs": [
    {
     "name": "stderr",
     "output_type": "stream",
     "text": [
      "Calculating profit term.: 100%|██████████| 3/3 [00:00<00:00, 200.03it/s]\n"
     ]
    },
    {
     "data": {
      "text/plain": "array([ 0.40248447,  0.25853653,  0.3477653 ,  0.84993075,  0.25853653,\n        0.11458859,  0.20381736,  0.70598281,  0.3477653 ,  0.20381736,\n        0.29304612,  0.79521157,  0.84993075,  0.70598281,  0.79521157,\n        1.29737702,  0.40248447,  0.25853653,  0.3477653 ,  0.84993075,\n        0.25853653,  0.11458859,  0.20381736,  0.70598281,  0.3477653 ,\n        0.20381736,  0.29304612,  0.79521157,  0.84993075,  0.70598281,\n        0.79521157,  1.29737702,  0.40248447,  0.25853653,  0.3477653 ,\n        0.84993075,  0.25853653,  0.11458859,  0.20381736,  0.70598281,\n        0.3477653 ,  0.20381736,  0.29304612,  0.79521157,  0.84993075,\n        0.70598281,  0.79521157,  1.29737702, -9.59751553, -9.74146347,\n       -9.6522347 , -9.15006925, -9.74146347, -9.88541141, -9.79618264,\n       -9.29401719, -9.6522347 , -9.79618264, -9.70695388, -9.20478843,\n       -9.15006925, -9.29401719, -9.20478843, -8.70262298])"
     },
     "execution_count": 41,
     "metadata": {},
     "output_type": "execute_result"
    }
   ],
   "source": [
    "n.profit_term().diagonal()"
   ],
   "metadata": {
    "collapsed": false,
    "ExecuteTime": {
     "end_time": "2024-02-10T14:35:31.806743800Z",
     "start_time": "2024-02-10T14:35:31.773749700Z"
    }
   },
   "id": "61ddd0fb0b91d239",
   "execution_count": 41
  },
  {
   "cell_type": "code",
   "outputs": [
    {
     "data": {
      "text/plain": "array([[  0.20124224,   0.0572943 ,   0.14652306,   0.64868851],\n       [  0.20124224,   0.0572943 ,   0.14652306,   0.64868851],\n       [  0.        ,   0.        ,   0.        , -10.        ]])"
     },
     "execution_count": 43,
     "metadata": {},
     "output_type": "execute_result"
    }
   ],
   "source": [
    "n.h"
   ],
   "metadata": {
    "collapsed": false,
    "ExecuteTime": {
     "end_time": "2024-02-10T14:37:12.890734Z",
     "start_time": "2024-02-10T14:37:12.879736300Z"
    }
   },
   "id": "26bdd1078428bf5a",
   "execution_count": 43
  },
  {
   "cell_type": "code",
   "outputs": [
    {
     "data": {
      "text/plain": "array([ 3.33333333e-01,  6.65401664e-02,  1.20721257e-01, -7.45813417e+01])"
     },
     "execution_count": 46,
     "metadata": {},
     "output_type": "execute_result"
    }
   ],
   "source": [
    "Qs_with_4_actions[30]"
   ],
   "metadata": {
    "collapsed": false,
    "ExecuteTime": {
     "end_time": "2024-02-10T14:38:06.384009Z",
     "start_time": "2024-02-10T14:38:06.374012500Z"
    }
   },
   "id": "e3db3b09df2c088",
   "execution_count": 46
  }
 ],
 "metadata": {
  "kernelspec": {
   "display_name": "Python 3",
   "language": "python",
   "name": "python3"
  },
  "language_info": {
   "codemirror_mode": {
    "name": "ipython",
    "version": 2
   },
   "file_extension": ".py",
   "mimetype": "text/x-python",
   "name": "python",
   "nbconvert_exporter": "python",
   "pygments_lexer": "ipython2",
   "version": "2.7.6"
  }
 },
 "nbformat": 4,
 "nbformat_minor": 5
}
